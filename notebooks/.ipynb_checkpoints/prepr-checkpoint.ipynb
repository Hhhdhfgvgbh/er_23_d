{
 "cells": [
  {
   "cell_type": "markdown",
   "metadata": {},
   "source": [
    "# Подготовка, предобработка и анализ данных"
   ]
  },
  {
   "cell_type": "code",
   "execution_count": 1,
   "metadata": {
    "execution": {
     "iopub.execute_input": "2024-06-13T17:55:15.412090Z",
     "iopub.status.busy": "2024-06-13T17:55:15.411753Z",
     "iopub.status.idle": "2024-06-13T17:55:24.907480Z",
     "shell.execute_reply": "2024-06-13T17:55:24.906540Z",
     "shell.execute_reply.started": "2024-06-13T17:55:15.412059Z"
    }
   },
   "outputs": [],
   "source": [
    "import os\n",
    "os.environ[\"OMP_NUM_THREADS\"] = \"4\"\n",
    "\n",
    "import pandas as pd\n",
    "import numpy as np\n",
    "import torch\n",
    "from functools import partial\n",
    "import pytorch_lightning as pl\n",
    "import warnings\n",
    "warnings.filterwarnings(\"ignore\")\n",
    "\n",
    "from torch.utils.data import DataLoader\n",
    "\n",
    "from ptls.data_load.datasets import MemoryMapDataset\n",
    "from ptls.data_load.iterable_processing.iterable_seq_len_limit import ISeqLenLimit\n",
    "from ptls.data_load.iterable_processing.to_torch_tensor import ToTorch\n",
    "from ptls.data_load.iterable_processing.feature_filter import FeatureFilter\n",
    "from ptls.nn import TrxEncoder, RnnSeqEncoder\n",
    "from ptls.frames.coles import CoLESModule\n",
    "from ptls.data_load.iterable_processing import SeqLenFilter\n",
    "from ptls.frames.coles import ColesIterableDataset\n",
    "from ptls.frames.coles.split_strategy import SampleSlices\n",
    "from ptls.frames import PtlsDataModule\n",
    "from ptls.preprocessing import PandasDataPreprocessor\n",
    "from ptls.data_load.utils import collate_feature_dict\n",
    "from ptls.data_load.iterable_processing_dataset import IterableProcessingDataset\n",
    "\n",
    "from tqdm.auto import tqdm\n",
    "#import lightgbm as ltb\n",
    "from sklearn import preprocessing \n",
    "import gc\n",
    "import pickle\n",
    "import matplotlib.pyplot as plt"
   ]
  },
  {
   "cell_type": "code",
   "execution_count": 2,
   "metadata": {
    "execution": {
     "iopub.execute_input": "2024-06-13T17:55:24.909074Z",
     "iopub.status.busy": "2024-06-13T17:55:24.908553Z",
     "iopub.status.idle": "2024-06-13T17:55:24.921548Z",
     "shell.execute_reply": "2024-06-13T17:55:24.920516Z",
     "shell.execute_reply.started": "2024-06-13T17:55:24.909046Z"
    }
   },
   "outputs": [],
   "source": [
    "def reduce_mem_usage(df, cat_cols=[]):\n",
    "    \"\"\" iterate through all the columns of a dataframe and modify the data type\n",
    "        to reduce memory usage.\n",
    "    \"\"\"\n",
    "    for col in df.columns:\n",
    "        if col in cat_cols:\n",
    "            df[col] = df[col].astype(\"category\")\n",
    "    start_mem = df.memory_usage().sum() / 1024**2\n",
    "    # print('Memory usage of dataframe is {:.2f} MB'.format(start_mem))\n",
    "\n",
    "    for col in df.columns:\n",
    "        col_type = df[col].dtype.name\n",
    "\n",
    "        if col_type not in ['object', 'category', 'datetime64[ns, UTC]']:\n",
    "            c_min = df[col].min()\n",
    "            c_max = df[col].max()\n",
    "            if col_type.startswith('int'):\n",
    "                if c_min > np.iinfo(np.int8).min and c_max < np.iinfo(np.int8).max:\n",
    "                    df[col] = df[col].astype(np.int8)\n",
    "                elif c_min > np.iinfo(np.int16).min and c_max < np.iinfo(np.int16).max:\n",
    "                    df[col] = df[col].astype(np.int16)\n",
    "                elif c_min > np.iinfo(np.int32).min and c_max < np.iinfo(np.int32).max:\n",
    "                    df[col] = df[col].astype(np.int32)\n",
    "                elif c_min > np.iinfo(np.int64).min and c_max < np.iinfo(np.int64).max:\n",
    "                    df[col] = df[col].astype(np.int64)\n",
    "            elif col_type.startswith('float'):\n",
    "                if c_min > np.finfo(np.float16).min and c_max < np.finfo(np.float16).max:\n",
    "                    df[col] = df[col].astype(np.float16)\n",
    "                elif c_min > np.finfo(np.float32).min and c_max < np.finfo(np.float32).max:\n",
    "                    df[col] = df[col].astype(np.float32)\n",
    "                else:\n",
    "                    df[col] = df[col].astype(np.float64)\n",
    "\n",
    "    end_mem = df.memory_usage().sum() / 1024**2\n",
    "    return df"
   ]
  },
  {
   "cell_type": "markdown",
   "metadata": {},
   "source": [
    "## Таблицы таргетов"
   ]
  },
  {
   "cell_type": "code",
   "execution_count": 4,
   "metadata": {
    "execution": {
     "iopub.execute_input": "2024-06-13T17:55:24.925517Z",
     "iopub.status.busy": "2024-06-13T17:55:24.924562Z",
     "iopub.status.idle": "2024-06-13T17:55:27.554679Z",
     "shell.execute_reply": "2024-06-13T17:55:27.553643Z",
     "shell.execute_reply.started": "2024-06-13T17:55:24.925488Z"
    }
   },
   "outputs": [
    {
     "data": {
      "text/html": [
       "<div>\n",
       "<style scoped>\n",
       "    .dataframe tbody tr th:only-of-type {\n",
       "        vertical-align: middle;\n",
       "    }\n",
       "\n",
       "    .dataframe tbody tr th {\n",
       "        vertical-align: top;\n",
       "    }\n",
       "\n",
       "    .dataframe thead th {\n",
       "        text-align: right;\n",
       "    }\n",
       "</style>\n",
       "<table border=\"1\" class=\"dataframe\">\n",
       "  <thead>\n",
       "    <tr style=\"text-align: right;\">\n",
       "      <th></th>\n",
       "      <th>mon</th>\n",
       "      <th>target_1</th>\n",
       "      <th>target_2</th>\n",
       "      <th>target_3</th>\n",
       "      <th>target_4</th>\n",
       "      <th>client_id</th>\n",
       "    </tr>\n",
       "  </thead>\n",
       "  <tbody>\n",
       "    <tr>\n",
       "      <th>0</th>\n",
       "      <td>2022-06-30</td>\n",
       "      <td>0</td>\n",
       "      <td>0</td>\n",
       "      <td>0</td>\n",
       "      <td>0</td>\n",
       "      <td>1d4ebf30ab5b981c60a6596e8daa4bdc0646163e50e486...</td>\n",
       "    </tr>\n",
       "    <tr>\n",
       "      <th>1</th>\n",
       "      <td>2022-07-31</td>\n",
       "      <td>0</td>\n",
       "      <td>0</td>\n",
       "      <td>0</td>\n",
       "      <td>0</td>\n",
       "      <td>1d4ebf30ab5b981c60a6596e8daa4bdc0646163e50e486...</td>\n",
       "    </tr>\n",
       "  </tbody>\n",
       "</table>\n",
       "</div>"
      ],
      "text/plain": [
       "          mon  target_1  target_2  target_3  target_4  \\\n",
       "0  2022-06-30         0         0         0         0   \n",
       "1  2022-07-31         0         0         0         0   \n",
       "\n",
       "                                           client_id  \n",
       "0  1d4ebf30ab5b981c60a6596e8daa4bdc0646163e50e486...  \n",
       "1  1d4ebf30ab5b981c60a6596e8daa4bdc0646163e50e486...  "
      ]
     },
     "execution_count": 4,
     "metadata": {},
     "output_type": "execute_result"
    }
   ],
   "source": [
    "df_targ_1 = pd.read_parquet('C:\\\\data_sber_com\\\\data\\\\Hackathon\\\\train_target.parquet')\n",
    "df_targ_2 = pd.read_parquet('C:\\\\data_sber_com\\\\data\\\\Hackathon\\\\test_target.parquet')\n",
    "df_targ_1.head(2)\n",
    "#Скачал все таргеты чтобы создать словарь айдишников для кодировки строки цифрами"
   ]
  },
  {
   "cell_type": "code",
   "execution_count": 5,
   "metadata": {
    "execution": {
     "iopub.execute_input": "2024-06-13T17:55:27.556285Z",
     "iopub.status.busy": "2024-06-13T17:55:27.555965Z",
     "iopub.status.idle": "2024-06-13T17:55:34.876351Z",
     "shell.execute_reply": "2024-06-13T17:55:34.875458Z",
     "shell.execute_reply.started": "2024-06-13T17:55:27.556258Z"
    }
   },
   "outputs": [],
   "source": [
    "cl_id_d = pd.concat([df_targ_1,df_targ_2])\n",
    "label_encoder = preprocessing.LabelEncoder()\n",
    "cl_id_d['client_id_num']= label_encoder.fit_transform(cl_id_d['client_id']) "
   ]
  },
  {
   "cell_type": "code",
   "execution_count": 6,
   "metadata": {
    "execution": {
     "iopub.execute_input": "2024-06-13T17:55:34.878276Z",
     "iopub.status.busy": "2024-06-13T17:55:34.877607Z",
     "iopub.status.idle": "2024-06-13T17:55:40.757615Z",
     "shell.execute_reply": "2024-06-13T17:55:40.756658Z",
     "shell.execute_reply.started": "2024-06-13T17:55:34.878239Z"
    }
   },
   "outputs": [],
   "source": [
    "set_id_clients = set(cl_id_d['client_id'])\n",
    "integerMapping=dict(zip(cl_id_d['client_id'],cl_id_d['client_id_num']))\n",
    "with open(\"integerMapping\", \"wb\") as dict_id:\n",
    "    pickle.dump(integerMapping, dict_id)\n",
    "# создал словарь соответствия и сохранил его"
   ]
  },
  {
   "cell_type": "code",
   "execution_count": 7,
   "metadata": {
    "execution": {
     "iopub.execute_input": "2024-06-13T17:55:40.759649Z",
     "iopub.status.busy": "2024-06-13T17:55:40.759247Z",
     "iopub.status.idle": "2024-06-13T17:55:40.771448Z",
     "shell.execute_reply": "2024-06-13T17:55:40.770410Z",
     "shell.execute_reply.started": "2024-06-13T17:55:40.759610Z"
    }
   },
   "outputs": [
    {
     "data": {
      "text/html": [
       "<div>\n",
       "<style scoped>\n",
       "    .dataframe tbody tr th:only-of-type {\n",
       "        vertical-align: middle;\n",
       "    }\n",
       "\n",
       "    .dataframe tbody tr th {\n",
       "        vertical-align: top;\n",
       "    }\n",
       "\n",
       "    .dataframe thead th {\n",
       "        text-align: right;\n",
       "    }\n",
       "</style>\n",
       "<table border=\"1\" class=\"dataframe\">\n",
       "  <thead>\n",
       "    <tr style=\"text-align: right;\">\n",
       "      <th></th>\n",
       "      <th>mon</th>\n",
       "      <th>target_1</th>\n",
       "      <th>target_2</th>\n",
       "      <th>target_3</th>\n",
       "      <th>target_4</th>\n",
       "      <th>client_id</th>\n",
       "      <th>client_id_num</th>\n",
       "    </tr>\n",
       "  </thead>\n",
       "  <tbody>\n",
       "    <tr>\n",
       "      <th>0</th>\n",
       "      <td>2022-06-30</td>\n",
       "      <td>0</td>\n",
       "      <td>0</td>\n",
       "      <td>0</td>\n",
       "      <td>0</td>\n",
       "      <td>1d4ebf30ab5b981c60a6596e8daa4bdc0646163e50e486...</td>\n",
       "      <td>113826</td>\n",
       "    </tr>\n",
       "    <tr>\n",
       "      <th>1</th>\n",
       "      <td>2022-07-31</td>\n",
       "      <td>0</td>\n",
       "      <td>0</td>\n",
       "      <td>0</td>\n",
       "      <td>0</td>\n",
       "      <td>1d4ebf30ab5b981c60a6596e8daa4bdc0646163e50e486...</td>\n",
       "      <td>113826</td>\n",
       "    </tr>\n",
       "    <tr>\n",
       "      <th>2</th>\n",
       "      <td>2022-08-31</td>\n",
       "      <td>0</td>\n",
       "      <td>0</td>\n",
       "      <td>0</td>\n",
       "      <td>0</td>\n",
       "      <td>1d4ebf30ab5b981c60a6596e8daa4bdc0646163e50e486...</td>\n",
       "      <td>113826</td>\n",
       "    </tr>\n",
       "    <tr>\n",
       "      <th>3</th>\n",
       "      <td>2022-09-30</td>\n",
       "      <td>0</td>\n",
       "      <td>0</td>\n",
       "      <td>0</td>\n",
       "      <td>0</td>\n",
       "      <td>1d4ebf30ab5b981c60a6596e8daa4bdc0646163e50e486...</td>\n",
       "      <td>113826</td>\n",
       "    </tr>\n",
       "    <tr>\n",
       "      <th>4</th>\n",
       "      <td>2022-10-31</td>\n",
       "      <td>0</td>\n",
       "      <td>0</td>\n",
       "      <td>0</td>\n",
       "      <td>0</td>\n",
       "      <td>1d4ebf30ab5b981c60a6596e8daa4bdc0646163e50e486...</td>\n",
       "      <td>113826</td>\n",
       "    </tr>\n",
       "  </tbody>\n",
       "</table>\n",
       "</div>"
      ],
      "text/plain": [
       "          mon  target_1  target_2  target_3  target_4  \\\n",
       "0  2022-06-30         0         0         0         0   \n",
       "1  2022-07-31         0         0         0         0   \n",
       "2  2022-08-31         0         0         0         0   \n",
       "3  2022-09-30         0         0         0         0   \n",
       "4  2022-10-31         0         0         0         0   \n",
       "\n",
       "                                           client_id  client_id_num  \n",
       "0  1d4ebf30ab5b981c60a6596e8daa4bdc0646163e50e486...         113826  \n",
       "1  1d4ebf30ab5b981c60a6596e8daa4bdc0646163e50e486...         113826  \n",
       "2  1d4ebf30ab5b981c60a6596e8daa4bdc0646163e50e486...         113826  \n",
       "3  1d4ebf30ab5b981c60a6596e8daa4bdc0646163e50e486...         113826  \n",
       "4  1d4ebf30ab5b981c60a6596e8daa4bdc0646163e50e486...         113826  "
      ]
     },
     "execution_count": 7,
     "metadata": {},
     "output_type": "execute_result"
    }
   ],
   "source": [
    "cl_id_d.head()"
   ]
  },
  {
   "cell_type": "code",
   "execution_count": 8,
   "metadata": {
    "execution": {
     "iopub.execute_input": "2024-06-13T17:55:40.773151Z",
     "iopub.status.busy": "2024-06-13T17:55:40.772761Z",
     "iopub.status.idle": "2024-06-13T17:55:41.894830Z",
     "shell.execute_reply": "2024-06-13T17:55:41.893736Z",
     "shell.execute_reply.started": "2024-06-13T17:55:40.773118Z"
    }
   },
   "outputs": [
    {
     "data": {
      "text/plain": [
       "mon\n",
       "2022-02-28    0.005735\n",
       "2022-03-31    0.012230\n",
       "2022-04-30    0.013942\n",
       "2022-05-31    0.008858\n",
       "2022-06-30    0.006500\n",
       "2022-07-31    0.006295\n",
       "2022-08-31    0.008263\n",
       "2022-09-30    0.008013\n",
       "2022-10-31    0.005659\n",
       "2022-11-30    0.005261\n",
       "2022-12-31    0.004623\n",
       "2023-01-31    0.003664\n",
       "Name: target_3, dtype: float64"
      ]
     },
     "execution_count": 8,
     "metadata": {},
     "output_type": "execute_result"
    }
   ],
   "source": [
    "cl_id_d.groupby('mon')['target_3'].mean().sort_index()"
   ]
  },
  {
   "cell_type": "code",
   "execution_count": 9,
   "metadata": {
    "execution": {
     "iopub.execute_input": "2024-06-13T17:55:41.896197Z",
     "iopub.status.busy": "2024-06-13T17:55:41.895925Z",
     "iopub.status.idle": "2024-06-13T17:55:46.826717Z",
     "shell.execute_reply": "2024-06-13T17:55:46.825703Z",
     "shell.execute_reply.started": "2024-06-13T17:55:41.896175Z"
    }
   },
   "outputs": [
    {
     "data": {
      "text/plain": [
       "Text(0.5, 1.0, 'Сравнение таргетов по месяцам')"
      ]
     },
     "execution_count": 9,
     "metadata": {},
     "output_type": "execute_result"
    },
    {
     "data": {
      "image/png": "[encoded data removed]",
      "text/plain": [
       "<Figure size 1152x432 with 1 Axes>"
      ]
     },
     "metadata": {
      "needs_background": "light"
     },
     "output_type": "display_data"
    }
   ],
   "source": [
    "cl_id_d.groupby('mon')['target_1'].mean().sort_index().plot(figsize = (16,6), label= '1')\n",
    "cl_id_d.groupby('mon')['target_2'].mean().sort_index().plot(figsize = (16,6), label= '2')\n",
    "cl_id_d.groupby('mon')['target_3'].mean().sort_index().plot(figsize = (16,6), label= '3')\n",
    "cl_id_d.groupby('mon')['target_4'].mean().sort_index().plot(figsize = (16,6), label= '4')\n",
    "plt.grid()\n",
    "plt.legend()\n",
    "plt.title('Сравнение таргетов по месяцам')"
   ]
  },
  {
   "cell_type": "code",
   "execution_count": 10,
   "metadata": {
    "execution": {
     "iopub.execute_input": "2024-06-13T17:55:46.831039Z",
     "iopub.status.busy": "2024-06-13T17:55:46.830705Z",
     "iopub.status.idle": "2024-06-13T17:55:48.215949Z",
     "shell.execute_reply": "2024-06-13T17:55:48.214942Z",
     "shell.execute_reply.started": "2024-06-13T17:55:46.831011Z"
    }
   },
   "outputs": [
    {
     "data": {
      "text/plain": [
       "Text(0.5, 1.0, 'Сравнение таргетов трейна и теста по отдельности по месяцам')"
      ]
     },
     "execution_count": 10,
     "metadata": {},
     "output_type": "execute_result"
    },
    {
     "data": {
      "image/png": "[encoded data removed]",
      "text/plain": [
       "<Figure size 720x288 with 1 Axes>"
      ]
     },
     "metadata": {
      "needs_background": "light"
     },
     "output_type": "display_data"
    }
   ],
   "source": [
    "df_targ_1.groupby('mon')['target_1'].mean().sort_index().plot(figsize = (10,4), label= 'train')\n",
    "df_targ_2.groupby('mon')['target_1'].mean().sort_index().plot(figsize = (10,4), label= 'test')\n",
    "#cl_id_d.groupby('mon')['target_3'].mean().sort_index().plot(figsize = (16,6), label= '3')\n",
    "#cl_id_d.groupby('mon')['target_4'].mean().sort_index().plot(figsize = (16,6), label= '4')\n",
    "plt.grid()\n",
    "plt.legend()\n",
    "plt.title('Сравнение таргетов трейна и теста по отдельности по месяцам')"
   ]
  },
  {
   "cell_type": "code",
   "execution_count": 11,
   "metadata": {
    "execution": {
     "iopub.execute_input": "2024-06-13T17:55:48.218089Z",
     "iopub.status.busy": "2024-06-13T17:55:48.217658Z",
     "iopub.status.idle": "2024-06-13T17:55:49.593438Z",
     "shell.execute_reply": "2024-06-13T17:55:49.592403Z",
     "shell.execute_reply.started": "2024-06-13T17:55:48.218051Z"
    }
   },
   "outputs": [
    {
     "data": {
      "text/plain": [
       "Text(0.5, 1.0, 'Сравнение таргетов трейна и теста по отдельности по месяцам')"
      ]
     },
     "execution_count": 11,
     "metadata": {},
     "output_type": "execute_result"
    },
    {
     "data": {
      "image/png": "[encoded data removed]",
      "text/plain": [
       "<Figure size 720x288 with 1 Axes>"
      ]
     },
     "metadata": {
      "needs_background": "light"
     },
     "output_type": "display_data"
    }
   ],
   "source": [
    "df_targ_1.groupby('mon')['target_4'].mean().sort_index().plot(figsize = (10,4), label= 'train')\n",
    "df_targ_2.groupby('mon')['target_4'].mean().sort_index().plot(figsize = (10,4), label= 'test')\n",
    "#cl_id_d.groupby('mon')['target_3'].mean().sort_index().plot(figsize = (16,6), label= '3')\n",
    "#cl_id_d.groupby('mon')['target_4'].mean().sort_index().plot(figsize = (16,6), label= '4')\n",
    "plt.grid()\n",
    "plt.legend()\n",
    "plt.title('Сравнение таргетов трейна и теста по отдельности по месяцам')"
   ]
  },
  {
   "cell_type": "code",
   "execution_count": 12,
   "metadata": {
    "execution": {
     "iopub.execute_input": "2024-06-13T17:55:49.595625Z",
     "iopub.status.busy": "2024-06-13T17:55:49.595225Z",
     "iopub.status.idle": "2024-06-13T17:55:52.810338Z",
     "shell.execute_reply": "2024-06-13T17:55:52.809300Z",
     "shell.execute_reply.started": "2024-06-13T17:55:49.595590Z"
    }
   },
   "outputs": [
    {
     "data": {
      "text/plain": [
       "client_id\n",
       "000006265d27d1166ed67506682be7380007a5bead4362f0a9795f7d97fb08e3    0\n",
       "aa61e80574a3613cda0f5968a40917bd7c53c4e1a8054834ce98724739d36a8d    0\n",
       "aa61fc54a2e35460c6163c32169dde64f2298f78563e451d2a0437c61c2c1683    0\n",
       "aa62158ca710f2859e83e92e45313e03cf4f14e228d769ffea515eadca581825    0\n",
       "aa6228801b68fb14a672c1efab064f6cbd228542109b9ee7e1c584695e8f4e1c    0\n",
       "                                                                   ..\n",
       "c78f037696c09811f403749e000ca7aeed00cbd07230abaacbfe77a2463870a7    6\n",
       "f7058053ef3d675b22cc1e78568728a03e77f4ae8dc66ce8bc872b61cc4dfc4c    6\n",
       "1913d8497daa22da70cfbd51bdedf21e1522b671543650818bb9509aa4246f07    6\n",
       "1e07ab912ec0dfa7c5ab95232539bc7d57489824e9a08b61d0d09d1e30aac7a8    6\n",
       "5dc024441fb375934eb0069ec94dcc3266b34552f99ba33b46bc6c663932e261    9\n",
       "Name: target_2, Length: 853892, dtype: int32"
      ]
     },
     "execution_count": 12,
     "metadata": {},
     "output_type": "execute_result"
    }
   ],
   "source": [
    "df_targ_1.groupby('client_id')['target_2'].sum().sort_values()"
   ]
  },
  {
   "cell_type": "code",
   "execution_count": 13,
   "metadata": {
    "execution": {
     "iopub.execute_input": "2024-06-13T17:55:52.811698Z",
     "iopub.status.busy": "2024-06-13T17:55:52.811405Z",
     "iopub.status.idle": "2024-06-13T17:55:55.906409Z",
     "shell.execute_reply": "2024-06-13T17:55:55.905412Z",
     "shell.execute_reply.started": "2024-06-13T17:55:52.811674Z"
    }
   },
   "outputs": [
    {
     "data": {
      "text/plain": [
       "263"
      ]
     },
     "execution_count": 13,
     "metadata": {},
     "output_type": "execute_result"
    }
   ],
   "source": [
    "(df_targ_1.groupby('client_id')['target_2'].sum()>2).sum()"
   ]
  },
  {
   "cell_type": "code",
   "execution_count": 14,
   "metadata": {
    "execution": {
     "iopub.execute_input": "2024-06-13T17:55:55.908060Z",
     "iopub.status.busy": "2024-06-13T17:55:55.907657Z",
     "iopub.status.idle": "2024-06-13T17:56:01.759422Z",
     "shell.execute_reply": "2024-06-13T17:56:01.758203Z",
     "shell.execute_reply.started": "2024-06-13T17:55:55.908025Z"
    }
   },
   "outputs": [
    {
     "data": {
      "text/plain": [
       "(853892, 9624)"
      ]
     },
     "execution_count": 14,
     "metadata": {},
     "output_type": "execute_result"
    }
   ],
   "source": [
    "df_targ_1.groupby('client_id')['target_2'].count().count(), df_targ_1.groupby('client_id')['target_2'].sum().sum()"
   ]
  },
  {
   "cell_type": "code",
   "execution_count": 15,
   "metadata": {
    "execution": {
     "iopub.execute_input": "2024-06-13T17:56:01.760918Z",
     "iopub.status.busy": "2024-06-13T17:56:01.760603Z",
     "iopub.status.idle": "2024-06-13T17:56:02.622372Z",
     "shell.execute_reply": "2024-06-13T17:56:02.621169Z",
     "shell.execute_reply.started": "2024-06-13T17:56:01.760887Z"
    }
   },
   "outputs": [
    {
     "data": {
      "text/html": [
       "<div>\n",
       "<style scoped>\n",
       "    .dataframe tbody tr th:only-of-type {\n",
       "        vertical-align: middle;\n",
       "    }\n",
       "\n",
       "    .dataframe tbody tr th {\n",
       "        vertical-align: top;\n",
       "    }\n",
       "\n",
       "    .dataframe thead th {\n",
       "        text-align: right;\n",
       "    }\n",
       "</style>\n",
       "<table border=\"1\" class=\"dataframe\">\n",
       "  <thead>\n",
       "    <tr style=\"text-align: right;\">\n",
       "      <th></th>\n",
       "      <th>mon</th>\n",
       "      <th>target_1</th>\n",
       "      <th>target_2</th>\n",
       "      <th>target_3</th>\n",
       "      <th>target_4</th>\n",
       "      <th>client_id</th>\n",
       "    </tr>\n",
       "  </thead>\n",
       "  <tbody>\n",
       "    <tr>\n",
       "      <th>1615320</th>\n",
       "      <td>2022-02-28</td>\n",
       "      <td>1</td>\n",
       "      <td>0</td>\n",
       "      <td>0</td>\n",
       "      <td>0</td>\n",
       "      <td>402194ef2f46650d59063a4c57a0e845d624383c8f920a...</td>\n",
       "    </tr>\n",
       "    <tr>\n",
       "      <th>1615321</th>\n",
       "      <td>2022-03-31</td>\n",
       "      <td>1</td>\n",
       "      <td>0</td>\n",
       "      <td>0</td>\n",
       "      <td>0</td>\n",
       "      <td>402194ef2f46650d59063a4c57a0e845d624383c8f920a...</td>\n",
       "    </tr>\n",
       "    <tr>\n",
       "      <th>1615322</th>\n",
       "      <td>2022-04-30</td>\n",
       "      <td>1</td>\n",
       "      <td>0</td>\n",
       "      <td>1</td>\n",
       "      <td>0</td>\n",
       "      <td>402194ef2f46650d59063a4c57a0e845d624383c8f920a...</td>\n",
       "    </tr>\n",
       "    <tr>\n",
       "      <th>1615323</th>\n",
       "      <td>2022-05-31</td>\n",
       "      <td>0</td>\n",
       "      <td>0</td>\n",
       "      <td>0</td>\n",
       "      <td>0</td>\n",
       "      <td>402194ef2f46650d59063a4c57a0e845d624383c8f920a...</td>\n",
       "    </tr>\n",
       "    <tr>\n",
       "      <th>1615324</th>\n",
       "      <td>2022-06-30</td>\n",
       "      <td>0</td>\n",
       "      <td>0</td>\n",
       "      <td>0</td>\n",
       "      <td>0</td>\n",
       "      <td>402194ef2f46650d59063a4c57a0e845d624383c8f920a...</td>\n",
       "    </tr>\n",
       "    <tr>\n",
       "      <th>1615325</th>\n",
       "      <td>2022-07-31</td>\n",
       "      <td>1</td>\n",
       "      <td>0</td>\n",
       "      <td>1</td>\n",
       "      <td>0</td>\n",
       "      <td>402194ef2f46650d59063a4c57a0e845d624383c8f920a...</td>\n",
       "    </tr>\n",
       "    <tr>\n",
       "      <th>1615326</th>\n",
       "      <td>2022-08-31</td>\n",
       "      <td>0</td>\n",
       "      <td>0</td>\n",
       "      <td>0</td>\n",
       "      <td>0</td>\n",
       "      <td>402194ef2f46650d59063a4c57a0e845d624383c8f920a...</td>\n",
       "    </tr>\n",
       "    <tr>\n",
       "      <th>1615327</th>\n",
       "      <td>2022-09-30</td>\n",
       "      <td>0</td>\n",
       "      <td>0</td>\n",
       "      <td>0</td>\n",
       "      <td>0</td>\n",
       "      <td>402194ef2f46650d59063a4c57a0e845d624383c8f920a...</td>\n",
       "    </tr>\n",
       "    <tr>\n",
       "      <th>1615328</th>\n",
       "      <td>2022-10-31</td>\n",
       "      <td>1</td>\n",
       "      <td>0</td>\n",
       "      <td>1</td>\n",
       "      <td>0</td>\n",
       "      <td>402194ef2f46650d59063a4c57a0e845d624383c8f920a...</td>\n",
       "    </tr>\n",
       "    <tr>\n",
       "      <th>1615329</th>\n",
       "      <td>2022-11-30</td>\n",
       "      <td>0</td>\n",
       "      <td>0</td>\n",
       "      <td>0</td>\n",
       "      <td>0</td>\n",
       "      <td>402194ef2f46650d59063a4c57a0e845d624383c8f920a...</td>\n",
       "    </tr>\n",
       "    <tr>\n",
       "      <th>1615330</th>\n",
       "      <td>2022-12-31</td>\n",
       "      <td>0</td>\n",
       "      <td>0</td>\n",
       "      <td>0</td>\n",
       "      <td>0</td>\n",
       "      <td>402194ef2f46650d59063a4c57a0e845d624383c8f920a...</td>\n",
       "    </tr>\n",
       "    <tr>\n",
       "      <th>1615331</th>\n",
       "      <td>2023-01-31</td>\n",
       "      <td>1</td>\n",
       "      <td>0</td>\n",
       "      <td>0</td>\n",
       "      <td>0</td>\n",
       "      <td>402194ef2f46650d59063a4c57a0e845d624383c8f920a...</td>\n",
       "    </tr>\n",
       "  </tbody>\n",
       "</table>\n",
       "</div>"
      ],
      "text/plain": [
       "                mon  target_1  target_2  target_3  target_4  \\\n",
       "1615320  2022-02-28         1         0         0         0   \n",
       "1615321  2022-03-31         1         0         0         0   \n",
       "1615322  2022-04-30         1         0         1         0   \n",
       "1615323  2022-05-31         0         0         0         0   \n",
       "1615324  2022-06-30         0         0         0         0   \n",
       "1615325  2022-07-31         1         0         1         0   \n",
       "1615326  2022-08-31         0         0         0         0   \n",
       "1615327  2022-09-30         0         0         0         0   \n",
       "1615328  2022-10-31         1         0         1         0   \n",
       "1615329  2022-11-30         0         0         0         0   \n",
       "1615330  2022-12-31         0         0         0         0   \n",
       "1615331  2023-01-31         1         0         0         0   \n",
       "\n",
       "                                                 client_id  \n",
       "1615320  402194ef2f46650d59063a4c57a0e845d624383c8f920a...  \n",
       "1615321  402194ef2f46650d59063a4c57a0e845d624383c8f920a...  \n",
       "1615322  402194ef2f46650d59063a4c57a0e845d624383c8f920a...  \n",
       "1615323  402194ef2f46650d59063a4c57a0e845d624383c8f920a...  \n",
       "1615324  402194ef2f46650d59063a4c57a0e845d624383c8f920a...  \n",
       "1615325  402194ef2f46650d59063a4c57a0e845d624383c8f920a...  \n",
       "1615326  402194ef2f46650d59063a4c57a0e845d624383c8f920a...  \n",
       "1615327  402194ef2f46650d59063a4c57a0e845d624383c8f920a...  \n",
       "1615328  402194ef2f46650d59063a4c57a0e845d624383c8f920a...  \n",
       "1615329  402194ef2f46650d59063a4c57a0e845d624383c8f920a...  \n",
       "1615330  402194ef2f46650d59063a4c57a0e845d624383c8f920a...  \n",
       "1615331  402194ef2f46650d59063a4c57a0e845d624383c8f920a...  "
      ]
     },
     "execution_count": 15,
     "metadata": {},
     "output_type": "execute_result"
    }
   ],
   "source": [
    "df_targ_1[df_targ_1['client_id'] == '402194ef2f46650d59063a4c57a0e845d624383c8f920a5f80b01f726b55922f']"
   ]
  },
  {
   "cell_type": "code",
   "execution_count": 16,
   "metadata": {
    "execution": {
     "iopub.execute_input": "2024-06-13T17:56:02.624255Z",
     "iopub.status.busy": "2024-06-13T17:56:02.623823Z",
     "iopub.status.idle": "2024-06-13T17:56:03.471518Z",
     "shell.execute_reply": "2024-06-13T17:56:03.470436Z",
     "shell.execute_reply.started": "2024-06-13T17:56:02.624217Z"
    }
   },
   "outputs": [
    {
     "data": {
      "text/html": [
       "<div>\n",
       "<style scoped>\n",
       "    .dataframe tbody tr th:only-of-type {\n",
       "        vertical-align: middle;\n",
       "    }\n",
       "\n",
       "    .dataframe tbody tr th {\n",
       "        vertical-align: top;\n",
       "    }\n",
       "\n",
       "    .dataframe thead th {\n",
       "        text-align: right;\n",
       "    }\n",
       "</style>\n",
       "<table border=\"1\" class=\"dataframe\">\n",
       "  <thead>\n",
       "    <tr style=\"text-align: right;\">\n",
       "      <th></th>\n",
       "      <th>mon</th>\n",
       "      <th>target_1</th>\n",
       "      <th>target_2</th>\n",
       "      <th>target_3</th>\n",
       "      <th>target_4</th>\n",
       "      <th>client_id</th>\n",
       "    </tr>\n",
       "  </thead>\n",
       "  <tbody>\n",
       "    <tr>\n",
       "      <th>1424352</th>\n",
       "      <td>2022-02-28</td>\n",
       "      <td>0</td>\n",
       "      <td>1</td>\n",
       "      <td>0</td>\n",
       "      <td>0</td>\n",
       "      <td>1e07ab912ec0dfa7c5ab95232539bc7d57489824e9a08b...</td>\n",
       "    </tr>\n",
       "    <tr>\n",
       "      <th>1424353</th>\n",
       "      <td>2022-03-31</td>\n",
       "      <td>0</td>\n",
       "      <td>1</td>\n",
       "      <td>0</td>\n",
       "      <td>0</td>\n",
       "      <td>1e07ab912ec0dfa7c5ab95232539bc7d57489824e9a08b...</td>\n",
       "    </tr>\n",
       "    <tr>\n",
       "      <th>1424354</th>\n",
       "      <td>2022-04-30</td>\n",
       "      <td>0</td>\n",
       "      <td>1</td>\n",
       "      <td>0</td>\n",
       "      <td>0</td>\n",
       "      <td>1e07ab912ec0dfa7c5ab95232539bc7d57489824e9a08b...</td>\n",
       "    </tr>\n",
       "    <tr>\n",
       "      <th>1424355</th>\n",
       "      <td>2022-05-31</td>\n",
       "      <td>0</td>\n",
       "      <td>0</td>\n",
       "      <td>0</td>\n",
       "      <td>0</td>\n",
       "      <td>1e07ab912ec0dfa7c5ab95232539bc7d57489824e9a08b...</td>\n",
       "    </tr>\n",
       "    <tr>\n",
       "      <th>1424356</th>\n",
       "      <td>2022-06-30</td>\n",
       "      <td>0</td>\n",
       "      <td>0</td>\n",
       "      <td>0</td>\n",
       "      <td>0</td>\n",
       "      <td>1e07ab912ec0dfa7c5ab95232539bc7d57489824e9a08b...</td>\n",
       "    </tr>\n",
       "    <tr>\n",
       "      <th>1424357</th>\n",
       "      <td>2022-07-31</td>\n",
       "      <td>0</td>\n",
       "      <td>1</td>\n",
       "      <td>0</td>\n",
       "      <td>0</td>\n",
       "      <td>1e07ab912ec0dfa7c5ab95232539bc7d57489824e9a08b...</td>\n",
       "    </tr>\n",
       "    <tr>\n",
       "      <th>1424358</th>\n",
       "      <td>2022-08-31</td>\n",
       "      <td>0</td>\n",
       "      <td>1</td>\n",
       "      <td>0</td>\n",
       "      <td>0</td>\n",
       "      <td>1e07ab912ec0dfa7c5ab95232539bc7d57489824e9a08b...</td>\n",
       "    </tr>\n",
       "    <tr>\n",
       "      <th>1424359</th>\n",
       "      <td>2022-09-30</td>\n",
       "      <td>0</td>\n",
       "      <td>0</td>\n",
       "      <td>0</td>\n",
       "      <td>0</td>\n",
       "      <td>1e07ab912ec0dfa7c5ab95232539bc7d57489824e9a08b...</td>\n",
       "    </tr>\n",
       "    <tr>\n",
       "      <th>1424360</th>\n",
       "      <td>2022-10-31</td>\n",
       "      <td>0</td>\n",
       "      <td>0</td>\n",
       "      <td>0</td>\n",
       "      <td>0</td>\n",
       "      <td>1e07ab912ec0dfa7c5ab95232539bc7d57489824e9a08b...</td>\n",
       "    </tr>\n",
       "    <tr>\n",
       "      <th>1424361</th>\n",
       "      <td>2022-11-30</td>\n",
       "      <td>0</td>\n",
       "      <td>1</td>\n",
       "      <td>0</td>\n",
       "      <td>0</td>\n",
       "      <td>1e07ab912ec0dfa7c5ab95232539bc7d57489824e9a08b...</td>\n",
       "    </tr>\n",
       "    <tr>\n",
       "      <th>1424362</th>\n",
       "      <td>2022-12-31</td>\n",
       "      <td>0</td>\n",
       "      <td>0</td>\n",
       "      <td>0</td>\n",
       "      <td>0</td>\n",
       "      <td>1e07ab912ec0dfa7c5ab95232539bc7d57489824e9a08b...</td>\n",
       "    </tr>\n",
       "    <tr>\n",
       "      <th>1424363</th>\n",
       "      <td>2023-01-31</td>\n",
       "      <td>0</td>\n",
       "      <td>0</td>\n",
       "      <td>0</td>\n",
       "      <td>0</td>\n",
       "      <td>1e07ab912ec0dfa7c5ab95232539bc7d57489824e9a08b...</td>\n",
       "    </tr>\n",
       "  </tbody>\n",
       "</table>\n",
       "</div>"
      ],
      "text/plain": [
       "                mon  target_1  target_2  target_3  target_4  \\\n",
       "1424352  2022-02-28         0         1         0         0   \n",
       "1424353  2022-03-31         0         1         0         0   \n",
       "1424354  2022-04-30         0         1         0         0   \n",
       "1424355  2022-05-31         0         0         0         0   \n",
       "1424356  2022-06-30         0         0         0         0   \n",
       "1424357  2022-07-31         0         1         0         0   \n",
       "1424358  2022-08-31         0         1         0         0   \n",
       "1424359  2022-09-30         0         0         0         0   \n",
       "1424360  2022-10-31         0         0         0         0   \n",
       "1424361  2022-11-30         0         1         0         0   \n",
       "1424362  2022-12-31         0         0         0         0   \n",
       "1424363  2023-01-31         0         0         0         0   \n",
       "\n",
       "                                                 client_id  \n",
       "1424352  1e07ab912ec0dfa7c5ab95232539bc7d57489824e9a08b...  \n",
       "1424353  1e07ab912ec0dfa7c5ab95232539bc7d57489824e9a08b...  \n",
       "1424354  1e07ab912ec0dfa7c5ab95232539bc7d57489824e9a08b...  \n",
       "1424355  1e07ab912ec0dfa7c5ab95232539bc7d57489824e9a08b...  \n",
       "1424356  1e07ab912ec0dfa7c5ab95232539bc7d57489824e9a08b...  \n",
       "1424357  1e07ab912ec0dfa7c5ab95232539bc7d57489824e9a08b...  \n",
       "1424358  1e07ab912ec0dfa7c5ab95232539bc7d57489824e9a08b...  \n",
       "1424359  1e07ab912ec0dfa7c5ab95232539bc7d57489824e9a08b...  \n",
       "1424360  1e07ab912ec0dfa7c5ab95232539bc7d57489824e9a08b...  \n",
       "1424361  1e07ab912ec0dfa7c5ab95232539bc7d57489824e9a08b...  \n",
       "1424362  1e07ab912ec0dfa7c5ab95232539bc7d57489824e9a08b...  \n",
       "1424363  1e07ab912ec0dfa7c5ab95232539bc7d57489824e9a08b...  "
      ]
     },
     "execution_count": 16,
     "metadata": {},
     "output_type": "execute_result"
    }
   ],
   "source": [
    "df_targ_1[df_targ_1['client_id'] == '1e07ab912ec0dfa7c5ab95232539bc7d57489824e9a08b61d0d09d1e30aac7a8']"
   ]
  },
  {
   "cell_type": "code",
   "execution_count": 17,
   "metadata": {
    "execution": {
     "iopub.execute_input": "2024-06-13T17:56:03.473039Z",
     "iopub.status.busy": "2024-06-13T17:56:03.472723Z",
     "iopub.status.idle": "2024-06-13T17:56:03.513962Z",
     "shell.execute_reply": "2024-06-13T17:56:03.512914Z",
     "shell.execute_reply.started": "2024-06-13T17:56:03.473015Z"
    }
   },
   "outputs": [
    {
     "data": {
      "text/html": [
       "<div>\n",
       "<style scoped>\n",
       "    .dataframe tbody tr th:only-of-type {\n",
       "        vertical-align: middle;\n",
       "    }\n",
       "\n",
       "    .dataframe tbody tr th {\n",
       "        vertical-align: top;\n",
       "    }\n",
       "\n",
       "    .dataframe thead th {\n",
       "        text-align: right;\n",
       "    }\n",
       "</style>\n",
       "<table border=\"1\" class=\"dataframe\">\n",
       "  <thead>\n",
       "    <tr style=\"text-align: right;\">\n",
       "      <th></th>\n",
       "      <th>mon</th>\n",
       "      <th>target_1</th>\n",
       "      <th>target_2</th>\n",
       "      <th>target_3</th>\n",
       "      <th>target_4</th>\n",
       "      <th>client_id</th>\n",
       "    </tr>\n",
       "  </thead>\n",
       "  <tbody>\n",
       "    <tr>\n",
       "      <th>10817</th>\n",
       "      <td>2022-11-30</td>\n",
       "      <td>1</td>\n",
       "      <td>1</td>\n",
       "      <td>0</td>\n",
       "      <td>0</td>\n",
       "      <td>536c87c3a8a9090a42104fc970d3804c90c4ed8daad7c0...</td>\n",
       "    </tr>\n",
       "    <tr>\n",
       "      <th>10941</th>\n",
       "      <td>2022-03-31</td>\n",
       "      <td>1</td>\n",
       "      <td>1</td>\n",
       "      <td>0</td>\n",
       "      <td>1</td>\n",
       "      <td>53efe03928c184109ab9442f486262cfe4f768330b5f79...</td>\n",
       "    </tr>\n",
       "    <tr>\n",
       "      <th>38666</th>\n",
       "      <td>2022-04-30</td>\n",
       "      <td>1</td>\n",
       "      <td>1</td>\n",
       "      <td>0</td>\n",
       "      <td>0</td>\n",
       "      <td>ac9cc7df1960721e2e60156a14a75d40d8c35dedc9b721...</td>\n",
       "    </tr>\n",
       "    <tr>\n",
       "      <th>42063</th>\n",
       "      <td>2022-05-31</td>\n",
       "      <td>1</td>\n",
       "      <td>1</td>\n",
       "      <td>0</td>\n",
       "      <td>0</td>\n",
       "      <td>bcd075e66f5c0f5810655ddf1fc3c6c49b94c1478ba741...</td>\n",
       "    </tr>\n",
       "    <tr>\n",
       "      <th>48135</th>\n",
       "      <td>2022-05-31</td>\n",
       "      <td>1</td>\n",
       "      <td>1</td>\n",
       "      <td>0</td>\n",
       "      <td>0</td>\n",
       "      <td>db2b9fd8f168be6063f86f3885544a97ac8a22a8d33631...</td>\n",
       "    </tr>\n",
       "    <tr>\n",
       "      <th>...</th>\n",
       "      <td>...</td>\n",
       "      <td>...</td>\n",
       "      <td>...</td>\n",
       "      <td>...</td>\n",
       "      <td>...</td>\n",
       "      <td>...</td>\n",
       "    </tr>\n",
       "    <tr>\n",
       "      <th>10197965</th>\n",
       "      <td>2022-03-31</td>\n",
       "      <td>1</td>\n",
       "      <td>1</td>\n",
       "      <td>1</td>\n",
       "      <td>0</td>\n",
       "      <td>2a08da395cf6c80c2d4cbd18c7967549376bd09476d3b4...</td>\n",
       "    </tr>\n",
       "    <tr>\n",
       "      <th>10200128</th>\n",
       "      <td>2022-06-30</td>\n",
       "      <td>1</td>\n",
       "      <td>1</td>\n",
       "      <td>0</td>\n",
       "      <td>0</td>\n",
       "      <td>33c0544abb98f5f2b4068fe08ed965bee20eef156ab199...</td>\n",
       "    </tr>\n",
       "    <tr>\n",
       "      <th>10208586</th>\n",
       "      <td>2022-04-30</td>\n",
       "      <td>1</td>\n",
       "      <td>1</td>\n",
       "      <td>0</td>\n",
       "      <td>0</td>\n",
       "      <td>5f21d5241b84c873795a10cf98ffc2359435b80262bd76...</td>\n",
       "    </tr>\n",
       "    <tr>\n",
       "      <th>10216734</th>\n",
       "      <td>2022-04-30</td>\n",
       "      <td>1</td>\n",
       "      <td>1</td>\n",
       "      <td>0</td>\n",
       "      <td>0</td>\n",
       "      <td>881770fa24396b4bace86d8968794a529214ca856001c7...</td>\n",
       "    </tr>\n",
       "    <tr>\n",
       "      <th>10239055</th>\n",
       "      <td>2022-05-31</td>\n",
       "      <td>1</td>\n",
       "      <td>1</td>\n",
       "      <td>0</td>\n",
       "      <td>0</td>\n",
       "      <td>dcaa8d8c0b9c447b1809ea44eb398dfffa07544048feca...</td>\n",
       "    </tr>\n",
       "  </tbody>\n",
       "</table>\n",
       "<p>803 rows × 6 columns</p>\n",
       "</div>"
      ],
      "text/plain": [
       "                 mon  target_1  target_2  target_3  target_4  \\\n",
       "10817     2022-11-30         1         1         0         0   \n",
       "10941     2022-03-31         1         1         0         1   \n",
       "38666     2022-04-30         1         1         0         0   \n",
       "42063     2022-05-31         1         1         0         0   \n",
       "48135     2022-05-31         1         1         0         0   \n",
       "...              ...       ...       ...       ...       ...   \n",
       "10197965  2022-03-31         1         1         1         0   \n",
       "10200128  2022-06-30         1         1         0         0   \n",
       "10208586  2022-04-30         1         1         0         0   \n",
       "10216734  2022-04-30         1         1         0         0   \n",
       "10239055  2022-05-31         1         1         0         0   \n",
       "\n",
       "                                                  client_id  \n",
       "10817     536c87c3a8a9090a42104fc970d3804c90c4ed8daad7c0...  \n",
       "10941     53efe03928c184109ab9442f486262cfe4f768330b5f79...  \n",
       "38666     ac9cc7df1960721e2e60156a14a75d40d8c35dedc9b721...  \n",
       "42063     bcd075e66f5c0f5810655ddf1fc3c6c49b94c1478ba741...  \n",
       "48135     db2b9fd8f168be6063f86f3885544a97ac8a22a8d33631...  \n",
       "...                                                     ...  \n",
       "10197965  2a08da395cf6c80c2d4cbd18c7967549376bd09476d3b4...  \n",
       "10200128  33c0544abb98f5f2b4068fe08ed965bee20eef156ab199...  \n",
       "10208586  5f21d5241b84c873795a10cf98ffc2359435b80262bd76...  \n",
       "10216734  881770fa24396b4bace86d8968794a529214ca856001c7...  \n",
       "10239055  dcaa8d8c0b9c447b1809ea44eb398dfffa07544048feca...  \n",
       "\n",
       "[803 rows x 6 columns]"
      ]
     },
     "execution_count": 17,
     "metadata": {},
     "output_type": "execute_result"
    }
   ],
   "source": [
    "df_targ_1[(df_targ_1['target_1'] == 1) & (df_targ_1['target_2'] == 1)]"
   ]
  },
  {
   "cell_type": "markdown",
   "metadata": {},
   "source": [
    "Вывод:\n",
    "трейн и тест примерно соответствуют друг другу. Наблюдается небольшая сезонность (в начале года и летом все продукты приобретают чаще чем в конце года). Дисбаланс классов достаточно большой. У одного клиента возможна покупка нескольких продуктов в одном месяце, покупка одного и того же продукта несколько раз в месяц но таких клиентов меньшинство."
   ]
  },
  {
   "cell_type": "markdown",
   "metadata": {},
   "source": [
    "## Таблицы транзакций"
   ]
  },
  {
   "cell_type": "markdown",
   "metadata": {
    "execution": {
     "iopub.execute_input": "2024-06-13T08:03:00.744010Z",
     "iopub.status.busy": "2024-06-13T08:03:00.743433Z",
     "iopub.status.idle": "2024-06-13T08:03:00.752260Z",
     "shell.execute_reply": "2024-06-13T08:03:00.750388Z",
     "shell.execute_reply.started": "2024-06-13T08:03:00.743953Z"
    }
   },
   "source": [
    "event_time - Дата транзакции\n",
    "amount - Сумма транзакции\n",
    "currency - Валюта"
   ]
  },
  {
   "cell_type": "code",
   "execution_count": 17,
   "metadata": {
    "execution": {
     "iopub.execute_input": "2024-06-13T17:56:03.516034Z",
     "iopub.status.busy": "2024-06-13T17:56:03.515365Z",
     "iopub.status.idle": "2024-06-13T17:56:42.961391Z",
     "shell.execute_reply": "2024-06-13T17:56:42.960486Z",
     "shell.execute_reply.started": "2024-06-13T17:56:03.516006Z"
    }
   },
   "outputs": [],
   "source": [
    "directory = 'C:\\\\data_sber_com\\\\data\\\\Hackathon\\\\trx_test.parquet'\n",
    "df_trx_2 = pd.DataFrame()\n",
    "for filename in os.listdir(directory):\n",
    "    f = os.path.join(directory, filename)\n",
    "    if os.path.isfile(f):\n",
    "        df_trx_iter = reduce_mem_usage(pd.read_parquet(f))\n",
    "        df_trx_iter = df_trx_iter.loc[df_trx_iter['client_id'].isin(set_id_clients), :]\n",
    "        df_trx_iter.loc[df_trx_iter['amount'] > 2147483647, 'amount'] = 2147483646\n",
    "        df_trx_iter['amount'] = df_trx_iter['amount'].astype(np.int32)\n",
    "        df_trx_iter['client_id_num'] = df_trx_iter['client_id'].apply(lambda x: integerMapping.get(x, '660000'))\n",
    "        df_trx_iter.drop(columns = 'client_id', inplace = True)\n",
    "        df_trx_2 = pd.concat([df_trx_iter, df_trx_2])\n",
    "        df_trx_2.reset_index(drop = True, inplace=True)\n",
    "        del df_trx_iter\n",
    "        gc.collect()\n",
    "        #print('step')\n",
    "#Скачиваю по шагам, оптимизирую по памяти, и тд"
   ]
  },
  {
   "cell_type": "code",
   "execution_count": 18,
   "metadata": {
    "execution": {
     "iopub.execute_input": "2024-06-13T17:56:42.963185Z",
     "iopub.status.busy": "2024-06-13T17:56:42.962771Z",
     "iopub.status.idle": "2024-06-13T17:56:42.975461Z",
     "shell.execute_reply": "2024-06-13T17:56:42.974288Z",
     "shell.execute_reply.started": "2024-06-13T17:56:42.963152Z"
    }
   },
   "outputs": [
    {
     "name": "stdout",
     "output_type": "stream",
     "text": [
      "<class 'pandas.core.frame.DataFrame'>\n",
      "RangeIndex: 22495127 entries, 0 to 22495126\n",
      "Data columns (total 14 columns):\n",
      " #   Column         Dtype         \n",
      "---  ------         -----         \n",
      " 0   event_time     datetime64[ns]\n",
      " 1   amount         int32         \n",
      " 2   event_type     int8          \n",
      " 3   event_subtype  int8          \n",
      " 4   currency       float16       \n",
      " 5   src_type11     float16       \n",
      " 6   src_type12     float16       \n",
      " 7   dst_type11     float16       \n",
      " 8   dst_type12     float16       \n",
      " 9   src_type21     float16       \n",
      " 10  src_type22     float16       \n",
      " 11  src_type31     float16       \n",
      " 12  src_type32     float16       \n",
      " 13  client_id_num  int64         \n",
      "dtypes: datetime64[ns](1), float16(9), int32(1), int64(1), int8(2)\n",
      "memory usage: 858.1 MB\n"
     ]
    }
   ],
   "source": [
    "df_trx_2.info()"
   ]
  },
  {
   "cell_type": "code",
   "execution_count": 19,
   "metadata": {
    "execution": {
     "iopub.execute_input": "2024-06-13T17:56:42.977304Z",
     "iopub.status.busy": "2024-06-13T17:56:42.976928Z",
     "iopub.status.idle": "2024-06-13T17:56:43.308758Z",
     "shell.execute_reply": "2024-06-13T17:56:43.307737Z",
     "shell.execute_reply.started": "2024-06-13T17:56:42.977271Z"
    }
   },
   "outputs": [
    {
     "data": {
      "text/plain": [
       "(13, 18.0)"
      ]
     },
     "execution_count": 19,
     "metadata": {},
     "output_type": "execute_result"
    }
   ],
   "source": [
    "df_trx_2['currency'].isna().sum(), df_trx_2['currency'].max()"
   ]
  },
  {
   "cell_type": "code",
   "execution_count": 20,
   "metadata": {
    "execution": {
     "iopub.execute_input": "2024-06-13T17:56:43.310190Z",
     "iopub.status.busy": "2024-06-13T17:56:43.309895Z",
     "iopub.status.idle": "2024-06-13T17:56:43.631833Z",
     "shell.execute_reply": "2024-06-13T17:56:43.630717Z",
     "shell.execute_reply.started": "2024-06-13T17:56:43.310165Z"
    }
   },
   "outputs": [],
   "source": [
    "df_trx_2['currency'] = df_trx_2['currency'].fillna(99)\n",
    "df_trx_2['currency'] = df_trx_2['currency'].astype(int)"
   ]
  },
  {
   "cell_type": "code",
   "execution_count": 21,
   "metadata": {
    "execution": {
     "iopub.execute_input": "2024-06-13T17:56:43.633362Z",
     "iopub.status.busy": "2024-06-13T17:56:43.633076Z",
     "iopub.status.idle": "2024-06-13T17:56:44.450398Z",
     "shell.execute_reply": "2024-06-13T17:56:44.449466Z",
     "shell.execute_reply.started": "2024-06-13T17:56:43.633339Z"
    }
   },
   "outputs": [
    {
     "data": {
      "text/html": [
       "<div>\n",
       "<style scoped>\n",
       "    .dataframe tbody tr th:only-of-type {\n",
       "        vertical-align: middle;\n",
       "    }\n",
       "\n",
       "    .dataframe tbody tr th {\n",
       "        vertical-align: top;\n",
       "    }\n",
       "\n",
       "    .dataframe thead th {\n",
       "        text-align: right;\n",
       "    }\n",
       "</style>\n",
       "<table border=\"1\" class=\"dataframe\">\n",
       "  <thead>\n",
       "    <tr style=\"text-align: right;\">\n",
       "      <th></th>\n",
       "      <th>count_tr</th>\n",
       "      <th>mean_tr</th>\n",
       "      <th>max_tr</th>\n",
       "    </tr>\n",
       "    <tr>\n",
       "      <th>currency</th>\n",
       "      <th></th>\n",
       "      <th></th>\n",
       "      <th></th>\n",
       "    </tr>\n",
       "  </thead>\n",
       "  <tbody>\n",
       "    <tr>\n",
       "      <th>1</th>\n",
       "      <td>7685</td>\n",
       "      <td>6.886601e+06</td>\n",
       "      <td>2147483646</td>\n",
       "    </tr>\n",
       "    <tr>\n",
       "      <th>2</th>\n",
       "      <td>5</td>\n",
       "      <td>1.682672e+05</td>\n",
       "      <td>421320</td>\n",
       "    </tr>\n",
       "    <tr>\n",
       "      <th>4</th>\n",
       "      <td>12</td>\n",
       "      <td>2.177742e+07</td>\n",
       "      <td>57363376</td>\n",
       "    </tr>\n",
       "    <tr>\n",
       "      <th>6</th>\n",
       "      <td>90</td>\n",
       "      <td>3.235783e+06</td>\n",
       "      <td>111407968</td>\n",
       "    </tr>\n",
       "    <tr>\n",
       "      <th>7</th>\n",
       "      <td>3759</td>\n",
       "      <td>2.382690e+07</td>\n",
       "      <td>1809218048</td>\n",
       "    </tr>\n",
       "    <tr>\n",
       "      <th>9</th>\n",
       "      <td>141</td>\n",
       "      <td>3.634615e+05</td>\n",
       "      <td>10662433</td>\n",
       "    </tr>\n",
       "    <tr>\n",
       "      <th>11</th>\n",
       "      <td>22476329</td>\n",
       "      <td>5.283181e+05</td>\n",
       "      <td>2147483646</td>\n",
       "    </tr>\n",
       "    <tr>\n",
       "      <th>13</th>\n",
       "      <td>103</td>\n",
       "      <td>1.023713e+06</td>\n",
       "      <td>24553508</td>\n",
       "    </tr>\n",
       "    <tr>\n",
       "      <th>14</th>\n",
       "      <td>6568</td>\n",
       "      <td>1.986342e+07</td>\n",
       "      <td>2147483646</td>\n",
       "    </tr>\n",
       "    <tr>\n",
       "      <th>16</th>\n",
       "      <td>137</td>\n",
       "      <td>9.568559e+06</td>\n",
       "      <td>145861984</td>\n",
       "    </tr>\n",
       "    <tr>\n",
       "      <th>17</th>\n",
       "      <td>275</td>\n",
       "      <td>2.074895e+05</td>\n",
       "      <td>8461144</td>\n",
       "    </tr>\n",
       "    <tr>\n",
       "      <th>18</th>\n",
       "      <td>10</td>\n",
       "      <td>1.061921e+06</td>\n",
       "      <td>9383621</td>\n",
       "    </tr>\n",
       "    <tr>\n",
       "      <th>99</th>\n",
       "      <td>13</td>\n",
       "      <td>9.761623e+04</td>\n",
       "      <td>1161409</td>\n",
       "    </tr>\n",
       "  </tbody>\n",
       "</table>\n",
       "</div>"
      ],
      "text/plain": [
       "          count_tr       mean_tr      max_tr\n",
       "currency                                    \n",
       "1             7685  6.886601e+06  2147483646\n",
       "2                5  1.682672e+05      421320\n",
       "4               12  2.177742e+07    57363376\n",
       "6               90  3.235783e+06   111407968\n",
       "7             3759  2.382690e+07  1809218048\n",
       "9              141  3.634615e+05    10662433\n",
       "11        22476329  5.283181e+05  2147483646\n",
       "13             103  1.023713e+06    24553508\n",
       "14            6568  1.986342e+07  2147483646\n",
       "16             137  9.568559e+06   145861984\n",
       "17             275  2.074895e+05     8461144\n",
       "18              10  1.061921e+06     9383621\n",
       "99              13  9.761623e+04     1161409"
      ]
     },
     "execution_count": 21,
     "metadata": {},
     "output_type": "execute_result"
    }
   ],
   "source": [
    "df_trx_2.groupby('currency').agg(count_tr=(\"amount\", \"count\"),\n",
    "                                                       mean_tr=(\"amount\", 'mean'),\n",
    "                                                       max_tr=(\"amount\", \"max\")\n",
    ")"
   ]
  },
  {
   "cell_type": "markdown",
   "metadata": {},
   "source": [
    "Разбивка по валютам инсайдов не дала за исключением предположения что 11 - рубль"
   ]
  },
  {
   "cell_type": "code",
   "execution_count": 22,
   "metadata": {
    "execution": {
     "iopub.execute_input": "2024-06-13T17:56:44.452151Z",
     "iopub.status.busy": "2024-06-13T17:56:44.451748Z",
     "iopub.status.idle": "2024-06-13T17:56:44.470009Z",
     "shell.execute_reply": "2024-06-13T17:56:44.468949Z",
     "shell.execute_reply.started": "2024-06-13T17:56:44.452117Z"
    }
   },
   "outputs": [
    {
     "data": {
      "text/html": [
       "<div>\n",
       "<style scoped>\n",
       "    .dataframe tbody tr th:only-of-type {\n",
       "        vertical-align: middle;\n",
       "    }\n",
       "\n",
       "    .dataframe tbody tr th {\n",
       "        vertical-align: top;\n",
       "    }\n",
       "\n",
       "    .dataframe thead th {\n",
       "        text-align: right;\n",
       "    }\n",
       "</style>\n",
       "<table border=\"1\" class=\"dataframe\">\n",
       "  <thead>\n",
       "    <tr style=\"text-align: right;\">\n",
       "      <th></th>\n",
       "      <th>event_time</th>\n",
       "      <th>amount</th>\n",
       "      <th>event_type</th>\n",
       "      <th>event_subtype</th>\n",
       "      <th>currency</th>\n",
       "      <th>src_type11</th>\n",
       "      <th>src_type12</th>\n",
       "      <th>dst_type11</th>\n",
       "      <th>dst_type12</th>\n",
       "      <th>src_type21</th>\n",
       "      <th>src_type22</th>\n",
       "      <th>src_type31</th>\n",
       "      <th>src_type32</th>\n",
       "      <th>client_id_num</th>\n",
       "    </tr>\n",
       "  </thead>\n",
       "  <tbody>\n",
       "    <tr>\n",
       "      <th>0</th>\n",
       "      <td>2022-08-27 18:02:07.781300</td>\n",
       "      <td>233</td>\n",
       "      <td>37</td>\n",
       "      <td>18</td>\n",
       "      <td>11</td>\n",
       "      <td>19.0</td>\n",
       "      <td>344.0</td>\n",
       "      <td>433.0</td>\n",
       "      <td>10048.0</td>\n",
       "      <td>19056.0</td>\n",
       "      <td>41.0</td>\n",
       "      <td>2118.0</td>\n",
       "      <td>77.0</td>\n",
       "      <td>435934</td>\n",
       "    </tr>\n",
       "    <tr>\n",
       "      <th>1</th>\n",
       "      <td>2022-08-31 16:10:45.975695</td>\n",
       "      <td>1627</td>\n",
       "      <td>37</td>\n",
       "      <td>18</td>\n",
       "      <td>11</td>\n",
       "      <td>19.0</td>\n",
       "      <td>344.0</td>\n",
       "      <td>433.0</td>\n",
       "      <td>10048.0</td>\n",
       "      <td>19056.0</td>\n",
       "      <td>41.0</td>\n",
       "      <td>2118.0</td>\n",
       "      <td>77.0</td>\n",
       "      <td>435934</td>\n",
       "    </tr>\n",
       "    <tr>\n",
       "      <th>2</th>\n",
       "      <td>2022-07-14 19:21:36.425053</td>\n",
       "      <td>437</td>\n",
       "      <td>37</td>\n",
       "      <td>18</td>\n",
       "      <td>11</td>\n",
       "      <td>19.0</td>\n",
       "      <td>344.0</td>\n",
       "      <td>433.0</td>\n",
       "      <td>10048.0</td>\n",
       "      <td>19056.0</td>\n",
       "      <td>41.0</td>\n",
       "      <td>2118.0</td>\n",
       "      <td>77.0</td>\n",
       "      <td>435934</td>\n",
       "    </tr>\n",
       "  </tbody>\n",
       "</table>\n",
       "</div>"
      ],
      "text/plain": [
       "                  event_time  amount  event_type  event_subtype  currency  \\\n",
       "0 2022-08-27 18:02:07.781300     233          37             18        11   \n",
       "1 2022-08-31 16:10:45.975695    1627          37             18        11   \n",
       "2 2022-07-14 19:21:36.425053     437          37             18        11   \n",
       "\n",
       "   src_type11  src_type12  dst_type11  dst_type12  src_type21  src_type22  \\\n",
       "0        19.0       344.0       433.0     10048.0     19056.0        41.0   \n",
       "1        19.0       344.0       433.0     10048.0     19056.0        41.0   \n",
       "2        19.0       344.0       433.0     10048.0     19056.0        41.0   \n",
       "\n",
       "   src_type31  src_type32  client_id_num  \n",
       "0      2118.0        77.0         435934  \n",
       "1      2118.0        77.0         435934  \n",
       "2      2118.0        77.0         435934  "
      ]
     },
     "execution_count": 22,
     "metadata": {},
     "output_type": "execute_result"
    }
   ],
   "source": [
    "df_trx_2.head(3)"
   ]
  },
  {
   "cell_type": "code",
   "execution_count": 23,
   "metadata": {
    "execution": {
     "iopub.execute_input": "2024-06-13T17:56:44.472157Z",
     "iopub.status.busy": "2024-06-13T17:56:44.471496Z",
     "iopub.status.idle": "2024-06-13T18:00:02.055413Z",
     "shell.execute_reply": "2024-06-13T18:00:02.054185Z",
     "shell.execute_reply.started": "2024-06-13T17:56:44.472117Z"
    }
   },
   "outputs": [],
   "source": [
    "directory = 'C:\\\\data_sber_com\\\\Hackathon\\\\trx_train.parquet'\n",
    "df_trx_1 = pd.DataFrame()\n",
    "for filename in os.listdir(directory):\n",
    "    f = os.path.join(directory, filename)\n",
    "    if os.path.isfile(f):\n",
    "        df_trx_iter = reduce_mem_usage(pd.read_parquet(f))\n",
    "        df_trx_iter = df_trx_iter.loc[df_trx_iter['client_id'].isin(set_id_clients), :]\n",
    "        df_trx_iter.loc[df_trx_iter['amount'] > 2147483647, 'amount'] = 2147483646\n",
    "        df_trx_iter['amount'] = df_trx_iter['amount'].astype(np.int32)\n",
    "        df_trx_iter['client_id_num'] = df_trx_iter['client_id'].apply(lambda x: integerMapping.get(x, '660000'))\n",
    "        df_trx_iter.drop(columns = 'client_id', inplace = True)\n",
    "        df_trx_1 = pd.concat([df_trx_iter, df_trx_1])\n",
    "        df_trx_1.reset_index(drop = True, inplace=True)\n",
    "        del df_trx_iter\n",
    "        gc.collect()\n",
    "        #print('step')\n",
    "#Скачиваю по шагам, оптимизирую по памяти, и тд"
   ]
  },
  {
   "cell_type": "code",
   "execution_count": 25,
   "metadata": {
    "execution": {
     "iopub.execute_input": "2024-06-13T18:00:02.064636Z",
     "iopub.status.busy": "2024-06-13T18:00:02.064312Z",
     "iopub.status.idle": "2024-06-13T18:00:02.083840Z",
     "shell.execute_reply": "2024-06-13T18:00:02.082626Z",
     "shell.execute_reply.started": "2024-06-13T18:00:02.064604Z"
    }
   },
   "outputs": [
    {
     "name": "stdout",
     "output_type": "stream",
     "text": [
      "<class 'pandas.core.frame.DataFrame'>\n",
      "RangeIndex: 127428379 entries, 0 to 127428378\n",
      "Data columns (total 14 columns):\n",
      " #   Column         Dtype         \n",
      "---  ------         -----         \n",
      " 0   event_time     datetime64[ns]\n",
      " 1   amount         int32         \n",
      " 2   event_type     int8          \n",
      " 3   event_subtype  int8          \n",
      " 4   currency       float16       \n",
      " 5   src_type11     float16       \n",
      " 6   src_type12     float16       \n",
      " 7   dst_type11     float16       \n",
      " 8   dst_type12     float16       \n",
      " 9   src_type21     float16       \n",
      " 10  src_type22     float16       \n",
      " 11  src_type31     float16       \n",
      " 12  src_type32     float16       \n",
      " 13  client_id_num  int64         \n",
      "dtypes: datetime64[ns](1), float16(9), int32(1), int64(1), int8(2)\n",
      "memory usage: 4.7 GB\n"
     ]
    }
   ],
   "source": [
    "df_trx_1.info()"
   ]
  },
  {
   "cell_type": "code",
   "execution_count": 26,
   "metadata": {
    "execution": {
     "iopub.execute_input": "2024-06-13T18:00:02.085706Z",
     "iopub.status.busy": "2024-06-13T18:00:02.085341Z",
     "iopub.status.idle": "2024-06-13T18:00:11.081714Z",
     "shell.execute_reply": "2024-06-13T18:00:11.080613Z",
     "shell.execute_reply.started": "2024-06-13T18:00:02.085667Z"
    }
   },
   "outputs": [],
   "source": [
    "for i in ['currency', 'src_type11', 'src_type12', 'src_type22', 'src_type32']:\n",
    "    df_trx_1[i].fillna(999, inplace = True)\n",
    "    df_trx_1[i] = df_trx_1[i].astype(np.int16)\n",
    "    df_trx_2[i].fillna(999, inplace = True)\n",
    "    df_trx_2[i] = df_trx_2[i].astype(np.int16)"
   ]
  },
  {
   "cell_type": "code",
   "execution_count": 41,
   "metadata": {
    "execution": {
     "iopub.execute_input": "2024-06-13T13:59:26.609027Z",
     "iopub.status.busy": "2024-06-13T13:59:26.608617Z",
     "iopub.status.idle": "2024-06-13T13:59:43.704065Z",
     "shell.execute_reply": "2024-06-13T13:59:43.702811Z",
     "shell.execute_reply.started": "2024-06-13T13:59:26.608988Z"
    }
   },
   "outputs": [],
   "source": [
    "df_trx_10 = df_trx_1.loc[df_trx_1['client_id_num'].isin(list(range(0, int(len(set_id_clients) / 4)))), :]\n",
    "df_trx_10.reset_index(drop = True, inplace=True)\n",
    "df_trx_12 = df_trx_1.loc[df_trx_1['client_id_num'].isin(list(range(int(len(set_id_clients) / 4), int(len(set_id_clients) / 2)))), :]\n",
    "df_trx_12.reset_index(drop = True, inplace=True)\n",
    "df_trx_14 = df_trx_1.loc[df_trx_1['client_id_num'].isin(list(range(int(len(set_id_clients) / 2), int(3 * len(set_id_clients) / 4)))), :]\n",
    "df_trx_14.reset_index(drop = True, inplace=True)\n",
    "df_trx_16 = df_trx_1.loc[df_trx_1['client_id_num'].isin(list(range(int(3 * len(set_id_clients) / 4), len(set_id_clients)))), :]\n",
    "df_trx_16.reset_index(drop = True, inplace=True)\n",
    "#Разделил тренировочный набор на 4 части"
   ]
  },
  {
   "cell_type": "code",
   "execution_count": 44,
   "metadata": {
    "execution": {
     "iopub.execute_input": "2024-06-13T13:59:43.713288Z",
     "iopub.status.busy": "2024-06-13T13:59:43.712756Z",
     "iopub.status.idle": "2024-06-13T13:59:43.734099Z",
     "shell.execute_reply": "2024-06-13T13:59:43.732509Z",
     "shell.execute_reply.started": "2024-06-13T13:59:43.713241Z"
    }
   },
   "outputs": [
    {
     "name": "stdout",
     "output_type": "stream",
     "text": [
      "<class 'pandas.core.frame.DataFrame'>\n",
      "RangeIndex: 32991851 entries, 0 to 32991850\n",
      "Data columns (total 14 columns):\n",
      " #   Column         Dtype         \n",
      "---  ------         -----         \n",
      " 0   event_time     datetime64[ns]\n",
      " 1   amount         int32         \n",
      " 2   event_type     int8          \n",
      " 3   event_subtype  int8          \n",
      " 4   currency       int16         \n",
      " 5   src_type11     int16         \n",
      " 6   src_type12     int16         \n",
      " 7   dst_type11     float16       \n",
      " 8   dst_type12     float16       \n",
      " 9   src_type21     float16       \n",
      " 10  src_type22     int16         \n",
      " 11  src_type31     float16       \n",
      " 12  src_type32     int16         \n",
      " 13  client_id_num  int64         \n",
      "dtypes: datetime64[ns](1), float16(4), int16(5), int32(1), int64(1), int8(2)\n",
      "memory usage: 1.2 GB\n"
     ]
    }
   ],
   "source": [
    "df_trx_14.info()"
   ]
  },
  {
   "cell_type": "code",
   "execution_count": 45,
   "metadata": {
    "execution": {
     "iopub.execute_input": "2024-06-13T13:59:43.735838Z",
     "iopub.status.busy": "2024-06-13T13:59:43.735437Z",
     "iopub.status.idle": "2024-06-13T13:59:58.620630Z",
     "shell.execute_reply": "2024-06-13T13:59:58.619141Z",
     "shell.execute_reply.started": "2024-06-13T13:59:43.735802Z"
    }
   },
   "outputs": [],
   "source": [
    "df_trx_10.to_pickle('C:\\\\data_sber_com\\\\out\\\\df_trx_10.pickle')\n",
    "df_trx_12.to_pickle('C:\\\\data_sber_com\\\\out\\\\df_trx_12.pickle')\n",
    "df_trx_14.to_pickle('C:\\\\data_sber_com\\\\out\\\\df_trx_14.pickle')\n",
    "df_trx_16.to_pickle('C:\\\\data_sber_com\\\\out\\\\df_trx_16.pickle')"
   ]
  },
  {
   "cell_type": "code",
   "execution_count": null,
   "metadata": {
    "execution": {
     "iopub.execute_input": "2024-06-13T13:59:59.107675Z",
     "iopub.status.busy": "2024-06-13T13:59:59.107184Z",
     "iopub.status.idle": "2024-06-13T14:10:39.759558Z",
     "shell.execute_reply": "2024-06-13T14:10:39.758113Z",
     "shell.execute_reply.started": "2024-06-13T13:59:59.107627Z"
    }
   },
   "outputs": [],
   "source": [
    "%%time\n",
    "\n",
    "preprocessor = PandasDataPreprocessor(\n",
    "    col_id=\"client_id_num\",\n",
    "    col_event_time=\"event_time\",\n",
    "    event_time_transformation=\"dt_to_timestamp\",\n",
    "    cols_category=[\"event_type\",\n",
    "                   \"event_subtype\",\n",
    "                   \"currency\",\n",
    "                   \"src_type11\",\n",
    "                   \"src_type12\",\n",
    "                   \"dst_type11\",\n",
    "                   \"dst_type12\",\n",
    "                   \"src_type21\",\n",
    "                   \"src_type22\",\n",
    "                   \"src_type31\",\n",
    "                   \"src_type32\"],\n",
    "    cols_identity=\"amount\",\n",
    "    return_records=False,\n",
    ")\n",
    "\n",
    "processed_train = preprocessor.fit_transform(df_trx_10)"
   ]
  },
  {
   "cell_type": "code",
   "execution_count": null,
   "metadata": {
    "execution": {
     "iopub.execute_input": "2024-06-13T17:50:22.872496Z",
     "iopub.status.busy": "2024-06-13T17:50:22.871775Z",
     "iopub.status.idle": "2024-06-13T17:50:23.170357Z",
     "shell.execute_reply": "2024-06-13T17:50:23.168838Z",
     "shell.execute_reply.started": "2024-06-13T17:50:22.872449Z"
    }
   },
   "outputs": [],
   "source": [
    "# Сохранил экземпляр преобразователя для транзакций\n",
    "with open(\"C:\\\\data_sber_com\\\\out\\\\preprocessor_tran_trx.pickle\", \"wb\") as prepr:\n",
    "    pickle.dump(preprocessor, prepr)"
   ]
  },
  {
   "cell_type": "code",
   "execution_count": 47,
   "metadata": {},
   "outputs": [],
   "source": [
    "with open(\"C:\\\\data_sber_com\\\\out\\\\preprocessor_tran_trx.pickle\", \"rb\") as file:\n",
    "    preprocessor = pickle.load(file)"
   ]
  },
  {
   "cell_type": "code",
   "execution_count": null,
   "metadata": {
    "execution": {
     "iopub.execute_input": "2024-06-13T14:10:44.056211Z",
     "iopub.status.busy": "2024-06-13T14:10:44.055655Z",
     "iopub.status.idle": "2024-06-13T14:15:36.395576Z",
     "shell.execute_reply": "2024-06-13T14:15:36.394210Z",
     "shell.execute_reply.started": "2024-06-13T14:10:44.056168Z"
    }
   },
   "outputs": [],
   "source": [
    "processed_test = preprocessor.transform(df_trx_2)"
   ]
  },
  {
   "cell_type": "code",
   "execution_count": 49,
   "metadata": {},
   "outputs": [],
   "source": [
    "list_file_1 = ['C:\\\\data_sber_com\\\\out\\\\df_trx_12.pickle'\n",
    "               , 'C:\\\\data_sber_com\\\\out\\\\df_trx_14.pickle'\n",
    "               , 'C:\\\\data_sber_com\\\\out\\\\df_trx_16.pickle']\n",
    "list_file_2 = ['C:\\\\data_sber_com\\\\out\\\\processed_train_12_trx.pickle'\n",
    "               , 'C:\\\\data_sber_com\\\\out\\\\processed_train_14_trx.pickle'\n",
    "               , 'C:\\\\data_sber_com\\\\out\\\\processed_train_16_trx.pickle']"
   ]
  },
  {
   "cell_type": "code",
   "execution_count": 50,
   "metadata": {},
   "outputs": [],
   "source": [
    "for i in range(3):\n",
    "    df_trx_iterat = pd.read_pickle(list_file_1[i])\n",
    "    df_prepr_trx_iterat =preprocessor.transform(df_trx_iterat)\n",
    "    pd.to_pickle(df_prepr_trx_iterat, list_file_2[i])\n",
    "    del df_trx_iterat, df_prepr_trx_iterat\n",
    "    gc.collect()"
   ]
  },
  {
   "cell_type": "code",
   "execution_count": null,
   "metadata": {},
   "outputs": [],
   "source": []
  },
  {
   "cell_type": "markdown",
   "metadata": {},
   "source": [
    "## Таблицы геоданных"
   ]
  },
  {
   "cell_type": "code",
   "execution_count": 51,
   "metadata": {},
   "outputs": [],
   "source": [
    "df_geo_1 = pd.read_parquet('C:\\\\data_sber_com\\\\Hackathon\\\\geo_train.parquet\\\\part-0.parquet')"
   ]
  },
  {
   "cell_type": "code",
   "execution_count": 52,
   "metadata": {},
   "outputs": [
    {
     "data": {
      "text/html": [
       "<div>\n",
       "<style scoped>\n",
       "    .dataframe tbody tr th:only-of-type {\n",
       "        vertical-align: middle;\n",
       "    }\n",
       "\n",
       "    .dataframe tbody tr th {\n",
       "        vertical-align: top;\n",
       "    }\n",
       "\n",
       "    .dataframe thead th {\n",
       "        text-align: right;\n",
       "    }\n",
       "</style>\n",
       "<table border=\"1\" class=\"dataframe\">\n",
       "  <thead>\n",
       "    <tr style=\"text-align: right;\">\n",
       "      <th></th>\n",
       "      <th>client_id</th>\n",
       "      <th>event_time</th>\n",
       "      <th>geohash_4</th>\n",
       "      <th>geohash_5</th>\n",
       "      <th>geohash_6</th>\n",
       "    </tr>\n",
       "  </thead>\n",
       "  <tbody>\n",
       "    <tr>\n",
       "      <th>0</th>\n",
       "      <td>309c0e909835757db908884e80f28f2fc76b803904b4b5...</td>\n",
       "      <td>2022-08-27 09:56:36.271169</td>\n",
       "      <td>39879</td>\n",
       "      <td>144891</td>\n",
       "      <td>1959174</td>\n",
       "    </tr>\n",
       "    <tr>\n",
       "      <th>1</th>\n",
       "      <td>309c0e909835757db908884e80f28f2fc76b803904b4b5...</td>\n",
       "      <td>2022-08-14 07:13:23.011804</td>\n",
       "      <td>39879</td>\n",
       "      <td>144891</td>\n",
       "      <td>1959174</td>\n",
       "    </tr>\n",
       "    <tr>\n",
       "      <th>2</th>\n",
       "      <td>309c0e909835757db908884e80f28f2fc76b803904b4b5...</td>\n",
       "      <td>2022-08-02 07:46:18.278369</td>\n",
       "      <td>39879</td>\n",
       "      <td>144891</td>\n",
       "      <td>1959174</td>\n",
       "    </tr>\n",
       "    <tr>\n",
       "      <th>3</th>\n",
       "      <td>309c0e909835757db908884e80f28f2fc76b803904b4b5...</td>\n",
       "      <td>2022-08-19 08:47:39.973788</td>\n",
       "      <td>39879</td>\n",
       "      <td>144891</td>\n",
       "      <td>1959174</td>\n",
       "    </tr>\n",
       "    <tr>\n",
       "      <th>4</th>\n",
       "      <td>309c0e909835757db908884e80f28f2fc76b803904b4b5...</td>\n",
       "      <td>2022-08-19 10:15:14.676360</td>\n",
       "      <td>39879</td>\n",
       "      <td>144891</td>\n",
       "      <td>1959174</td>\n",
       "    </tr>\n",
       "    <tr>\n",
       "      <th>...</th>\n",
       "      <td>...</td>\n",
       "      <td>...</td>\n",
       "      <td>...</td>\n",
       "      <td>...</td>\n",
       "      <td>...</td>\n",
       "    </tr>\n",
       "    <tr>\n",
       "      <th>17331962</th>\n",
       "      <td>c973ab601639ae5abca8140ca1ed7db84138c43e3bdf3c...</td>\n",
       "      <td>2022-05-27 07:54:34.402803</td>\n",
       "      <td>28959</td>\n",
       "      <td>119127</td>\n",
       "      <td>1392341</td>\n",
       "    </tr>\n",
       "    <tr>\n",
       "      <th>17331963</th>\n",
       "      <td>c973ab601639ae5abca8140ca1ed7db84138c43e3bdf3c...</td>\n",
       "      <td>2022-05-31 08:15:17.404636</td>\n",
       "      <td>28959</td>\n",
       "      <td>119127</td>\n",
       "      <td>1392341</td>\n",
       "    </tr>\n",
       "    <tr>\n",
       "      <th>17331964</th>\n",
       "      <td>c973ab601639ae5abca8140ca1ed7db84138c43e3bdf3c...</td>\n",
       "      <td>2022-05-13 09:43:58.973533</td>\n",
       "      <td>28959</td>\n",
       "      <td>119127</td>\n",
       "      <td>1392341</td>\n",
       "    </tr>\n",
       "    <tr>\n",
       "      <th>17331965</th>\n",
       "      <td>c973ab601639ae5abca8140ca1ed7db84138c43e3bdf3c...</td>\n",
       "      <td>2022-03-23 05:23:19.370481</td>\n",
       "      <td>28959</td>\n",
       "      <td>119127</td>\n",
       "      <td>1392341</td>\n",
       "    </tr>\n",
       "    <tr>\n",
       "      <th>17331966</th>\n",
       "      <td>c973ab601639ae5abca8140ca1ed7db84138c43e3bdf3c...</td>\n",
       "      <td>2022-06-22 06:52:16.839327</td>\n",
       "      <td>28959</td>\n",
       "      <td>119127</td>\n",
       "      <td>1392341</td>\n",
       "    </tr>\n",
       "  </tbody>\n",
       "</table>\n",
       "<p>17331967 rows × 5 columns</p>\n",
       "</div>"
      ],
      "text/plain": [
       "                                                  client_id  \\\n",
       "0         309c0e909835757db908884e80f28f2fc76b803904b4b5...   \n",
       "1         309c0e909835757db908884e80f28f2fc76b803904b4b5...   \n",
       "2         309c0e909835757db908884e80f28f2fc76b803904b4b5...   \n",
       "3         309c0e909835757db908884e80f28f2fc76b803904b4b5...   \n",
       "4         309c0e909835757db908884e80f28f2fc76b803904b4b5...   \n",
       "...                                                     ...   \n",
       "17331962  c973ab601639ae5abca8140ca1ed7db84138c43e3bdf3c...   \n",
       "17331963  c973ab601639ae5abca8140ca1ed7db84138c43e3bdf3c...   \n",
       "17331964  c973ab601639ae5abca8140ca1ed7db84138c43e3bdf3c...   \n",
       "17331965  c973ab601639ae5abca8140ca1ed7db84138c43e3bdf3c...   \n",
       "17331966  c973ab601639ae5abca8140ca1ed7db84138c43e3bdf3c...   \n",
       "\n",
       "                         event_time  geohash_4  geohash_5  geohash_6  \n",
       "0        2022-08-27 09:56:36.271169      39879     144891    1959174  \n",
       "1        2022-08-14 07:13:23.011804      39879     144891    1959174  \n",
       "2        2022-08-02 07:46:18.278369      39879     144891    1959174  \n",
       "3        2022-08-19 08:47:39.973788      39879     144891    1959174  \n",
       "4        2022-08-19 10:15:14.676360      39879     144891    1959174  \n",
       "...                             ...        ...        ...        ...  \n",
       "17331962 2022-05-27 07:54:34.402803      28959     119127    1392341  \n",
       "17331963 2022-05-31 08:15:17.404636      28959     119127    1392341  \n",
       "17331964 2022-05-13 09:43:58.973533      28959     119127    1392341  \n",
       "17331965 2022-03-23 05:23:19.370481      28959     119127    1392341  \n",
       "17331966 2022-06-22 06:52:16.839327      28959     119127    1392341  \n",
       "\n",
       "[17331967 rows x 5 columns]"
      ]
     },
     "execution_count": 52,
     "metadata": {},
     "output_type": "execute_result"
    }
   ],
   "source": [
    "df_geo_1"
   ]
  },
  {
   "cell_type": "code",
   "execution_count": 17,
   "metadata": {},
   "outputs": [],
   "source": [
    "directory = 'C:\\\\data_sber_com\\\\Hackathon\\\\geo_train.parquet'\n",
    "df_geo_1 = pd.DataFrame()\n",
    "for filename in os.listdir(directory):\n",
    "    f = os.path.join(directory, filename)\n",
    "    if os.path.isfile(f):\n",
    "        df_geo_iter = reduce_mem_usage(pd.read_parquet(f))\n",
    "        df_geo_iter = df_geo_iter.loc[df_geo_iter['client_id'].isin(set_id_clients), :]\n",
    "        df_geo_iter['client_id_num'] = df_geo_iter['client_id'].apply(lambda x: integerMapping.get(x, '660000'))\n",
    "        df_geo_iter.drop(columns = 'client_id', inplace = True)\n",
    "        df_geo_1 = pd.concat([df_geo_iter, df_geo_1])\n",
    "        df_geo_1.reset_index(drop = True, inplace=True)\n",
    "        del df_geo_iter\n",
    "        gc.collect()\n",
    "        #print('step')\n",
    "#Скачиваю по шагам, оптимизирую по памяти, и тд"
   ]
  },
  {
   "cell_type": "code",
   "execution_count": 18,
   "metadata": {},
   "outputs": [
    {
     "name": "stdout",
     "output_type": "stream",
     "text": [
      "<class 'pandas.core.frame.DataFrame'>\n",
      "RangeIndex: 468349475 entries, 0 to 468349474\n",
      "Data columns (total 5 columns):\n",
      " #   Column         Dtype         \n",
      "---  ------         -----         \n",
      " 0   event_time     datetime64[ns]\n",
      " 1   geohash_4      int32         \n",
      " 2   geohash_5      int32         \n",
      " 3   geohash_6      int32         \n",
      " 4   client_id_num  int64         \n",
      "dtypes: datetime64[ns](1), int32(3), int64(1)\n",
      "memory usage: 12.2 GB\n"
     ]
    }
   ],
   "source": [
    "df_geo_1.info()"
   ]
  },
  {
   "cell_type": "code",
   "execution_count": 24,
   "metadata": {},
   "outputs": [
    {
     "data": {
      "text/html": [
       "<div>\n",
       "<style scoped>\n",
       "    .dataframe tbody tr th:only-of-type {\n",
       "        vertical-align: middle;\n",
       "    }\n",
       "\n",
       "    .dataframe tbody tr th {\n",
       "        vertical-align: top;\n",
       "    }\n",
       "\n",
       "    .dataframe thead th {\n",
       "        text-align: right;\n",
       "    }\n",
       "</style>\n",
       "<table border=\"1\" class=\"dataframe\">\n",
       "  <thead>\n",
       "    <tr style=\"text-align: right;\">\n",
       "      <th></th>\n",
       "      <th>event_time</th>\n",
       "      <th>geohash_4</th>\n",
       "      <th>geohash_5</th>\n",
       "      <th>geohash_6</th>\n",
       "      <th>client_id_num</th>\n",
       "    </tr>\n",
       "  </thead>\n",
       "  <tbody>\n",
       "    <tr>\n",
       "      <th>135917691</th>\n",
       "      <td>2022-01-01 15:55:52.512879</td>\n",
       "      <td>21062</td>\n",
       "      <td>121225</td>\n",
       "      <td>906518</td>\n",
       "      <td>7</td>\n",
       "    </tr>\n",
       "    <tr>\n",
       "      <th>135917688</th>\n",
       "      <td>2022-01-03 08:37:56.304123</td>\n",
       "      <td>21062</td>\n",
       "      <td>357804</td>\n",
       "      <td>340324</td>\n",
       "      <td>7</td>\n",
       "    </tr>\n",
       "    <tr>\n",
       "      <th>135917692</th>\n",
       "      <td>2022-01-03 11:50:02.148468</td>\n",
       "      <td>21062</td>\n",
       "      <td>387648</td>\n",
       "      <td>2364951</td>\n",
       "      <td>7</td>\n",
       "    </tr>\n",
       "    <tr>\n",
       "      <th>135917685</th>\n",
       "      <td>2022-01-04 15:59:21.280511</td>\n",
       "      <td>21062</td>\n",
       "      <td>387648</td>\n",
       "      <td>86260</td>\n",
       "      <td>7</td>\n",
       "    </tr>\n",
       "    <tr>\n",
       "      <th>135917682</th>\n",
       "      <td>2022-01-05 11:17:44.823193</td>\n",
       "      <td>21062</td>\n",
       "      <td>357804</td>\n",
       "      <td>512245</td>\n",
       "      <td>7</td>\n",
       "    </tr>\n",
       "    <tr>\n",
       "      <th>135917687</th>\n",
       "      <td>2022-01-12 08:31:25.376902</td>\n",
       "      <td>21062</td>\n",
       "      <td>121225</td>\n",
       "      <td>2710491</td>\n",
       "      <td>7</td>\n",
       "    </tr>\n",
       "    <tr>\n",
       "      <th>135917689</th>\n",
       "      <td>2022-01-13 08:04:33.081711</td>\n",
       "      <td>21062</td>\n",
       "      <td>357804</td>\n",
       "      <td>340324</td>\n",
       "      <td>7</td>\n",
       "    </tr>\n",
       "    <tr>\n",
       "      <th>135917684</th>\n",
       "      <td>2022-01-13 13:14:46.275403</td>\n",
       "      <td>21062</td>\n",
       "      <td>326117</td>\n",
       "      <td>1924730</td>\n",
       "      <td>7</td>\n",
       "    </tr>\n",
       "    <tr>\n",
       "      <th>135917690</th>\n",
       "      <td>2022-01-15 10:31:50.873859</td>\n",
       "      <td>21062</td>\n",
       "      <td>357804</td>\n",
       "      <td>340324</td>\n",
       "      <td>7</td>\n",
       "    </tr>\n",
       "    <tr>\n",
       "      <th>135917681</th>\n",
       "      <td>2022-01-15 17:58:47.948394</td>\n",
       "      <td>21062</td>\n",
       "      <td>235840</td>\n",
       "      <td>2434604</td>\n",
       "      <td>7</td>\n",
       "    </tr>\n",
       "    <tr>\n",
       "      <th>135917686</th>\n",
       "      <td>2022-01-17 16:20:39.139732</td>\n",
       "      <td>21062</td>\n",
       "      <td>121225</td>\n",
       "      <td>2710491</td>\n",
       "      <td>7</td>\n",
       "    </tr>\n",
       "    <tr>\n",
       "      <th>135917683</th>\n",
       "      <td>2022-01-23 16:18:56.185816</td>\n",
       "      <td>21062</td>\n",
       "      <td>326117</td>\n",
       "      <td>1924730</td>\n",
       "      <td>7</td>\n",
       "    </tr>\n",
       "  </tbody>\n",
       "</table>\n",
       "</div>"
      ],
      "text/plain": [
       "                          event_time  geohash_4  geohash_5  geohash_6  \\\n",
       "135917691 2022-01-01 15:55:52.512879      21062     121225     906518   \n",
       "135917688 2022-01-03 08:37:56.304123      21062     357804     340324   \n",
       "135917692 2022-01-03 11:50:02.148468      21062     387648    2364951   \n",
       "135917685 2022-01-04 15:59:21.280511      21062     387648      86260   \n",
       "135917682 2022-01-05 11:17:44.823193      21062     357804     512245   \n",
       "135917687 2022-01-12 08:31:25.376902      21062     121225    2710491   \n",
       "135917689 2022-01-13 08:04:33.081711      21062     357804     340324   \n",
       "135917684 2022-01-13 13:14:46.275403      21062     326117    1924730   \n",
       "135917690 2022-01-15 10:31:50.873859      21062     357804     340324   \n",
       "135917681 2022-01-15 17:58:47.948394      21062     235840    2434604   \n",
       "135917686 2022-01-17 16:20:39.139732      21062     121225    2710491   \n",
       "135917683 2022-01-23 16:18:56.185816      21062     326117    1924730   \n",
       "\n",
       "           client_id_num  \n",
       "135917691              7  \n",
       "135917688              7  \n",
       "135917692              7  \n",
       "135917685              7  \n",
       "135917682              7  \n",
       "135917687              7  \n",
       "135917689              7  \n",
       "135917684              7  \n",
       "135917690              7  \n",
       "135917681              7  \n",
       "135917686              7  \n",
       "135917683              7  "
      ]
     },
     "execution_count": 24,
     "metadata": {},
     "output_type": "execute_result"
    }
   ],
   "source": [
    "df_geo_1[df_geo_1['client_id_num'] == 7].sort_values(by = 'event_time')"
   ]
  },
  {
   "cell_type": "code",
   "execution_count": 25,
   "metadata": {},
   "outputs": [],
   "source": [
    "df_geo_10 = df_geo_1.loc[df_geo_1['client_id_num'].isin(list(range(0, int(len(set_id_clients) / 4)))), :]\n",
    "df_geo_10.reset_index(drop = True, inplace=True)\n",
    "df_geo_12 = df_geo_1.loc[df_geo_1['client_id_num'].isin(list(range(int(len(set_id_clients) / 4), int(len(set_id_clients) / 2)))), :]\n",
    "df_geo_12.reset_index(drop = True, inplace=True)\n",
    "df_geo_14 = df_geo_1.loc[df_geo_1['client_id_num'].isin(list(range(int(len(set_id_clients) / 2), int(3 * len(set_id_clients) / 4)))), :]\n",
    "df_geo_14.reset_index(drop = True, inplace=True)\n",
    "df_geo_16 = df_geo_1.loc[df_geo_1['client_id_num'].isin(list(range(int(3 * len(set_id_clients) / 4), len(set_id_clients)))), :]\n",
    "df_geo_16.reset_index(drop = True, inplace=True)\n",
    "#Разделил тренировочный набор на 4 части"
   ]
  },
  {
   "cell_type": "code",
   "execution_count": 26,
   "metadata": {},
   "outputs": [],
   "source": [
    "df_geo_10.to_pickle('C:\\\\data_sber_com\\\\out\\\\df_geo_10.pickle')\n",
    "df_geo_12.to_pickle('C:\\\\data_sber_com\\\\out\\\\df_geo_12.pickle')\n",
    "df_geo_14.to_pickle('C:\\\\data_sber_com\\\\out\\\\df_geo_14.pickle')\n",
    "df_geo_16.to_pickle('C:\\\\data_sber_com\\\\out\\\\df_geo_16.pickle')"
   ]
  },
  {
   "cell_type": "code",
   "execution_count": null,
   "metadata": {},
   "outputs": [],
   "source": []
  },
  {
   "cell_type": "code",
   "execution_count": 7,
   "metadata": {},
   "outputs": [],
   "source": [
    "df_geo_10 = pd.read_pickle('C:\\\\data_sber_com\\\\out\\\\df_geo_10.pickle')"
   ]
  },
  {
   "cell_type": "code",
   "execution_count": 8,
   "metadata": {},
   "outputs": [
    {
     "name": "stdout",
     "output_type": "stream",
     "text": [
      "Wall time: 11min 29s\n"
     ]
    }
   ],
   "source": [
    "%%time\n",
    "\n",
    "preprocessor_geo = PandasDataPreprocessor(\n",
    "    col_id=\"client_id_num\",\n",
    "    col_event_time=\"event_time\",\n",
    "    event_time_transformation=\"dt_to_timestamp\",\n",
    "    cols_category=[\"geohash_4\",\n",
    "                   \"geohash_5\",\n",
    "                   \"geohash_6\"],\n",
    "    return_records=False,\n",
    ")\n",
    "\n",
    "processed_train_geo = preprocessor_geo.fit_transform(df_geo_10)\n",
    "#preprocessor.fit(df_trx_20)"
   ]
  },
  {
   "cell_type": "code",
   "execution_count": 9,
   "metadata": {},
   "outputs": [],
   "source": [
    "# Сохранил экземпляр преобразователя для транзакций\n",
    "with open(\"C:\\\\data_sber_com\\\\out\\\\preprocessor_tran_geo.pickle\", \"wb\") as prepr:\n",
    "    pickle.dump(preprocessor_geo, prepr)"
   ]
  },
  {
   "cell_type": "code",
   "execution_count": 10,
   "metadata": {},
   "outputs": [],
   "source": [
    "pd.to_pickle(processed_train_geo, 'C:\\\\data_sber_com\\\\out\\\\processed_train_10_geo.pickle')"
   ]
  },
  {
   "cell_type": "code",
   "execution_count": null,
   "metadata": {},
   "outputs": [],
   "source": [
    "with open(\"C:\\\\data_sber_com\\\\out\\\\preprocessor_tran_geo.pickle\", \"rb\") as file:\n",
    "    preprocessor_geo = pickle.load(file)"
   ]
  },
  {
   "cell_type": "code",
   "execution_count": 13,
   "metadata": {},
   "outputs": [],
   "source": [
    "list_file_11 = ['C:\\\\data_sber_com\\\\out\\\\df_geo_12.pickle'\n",
    "               , 'C:\\\\data_sber_com\\\\out\\\\df_geo_14.pickle'\n",
    "               , 'C:\\\\data_sber_com\\\\out\\\\df_geo_16.pickle']\n",
    "list_file_12 = ['C:\\\\data_sber_com\\\\out\\\\processed_train_12_geo.pickle'\n",
    "               , 'C:\\\\data_sber_com\\\\out\\\\processed_train_14_geo.pickle'\n",
    "               , 'C:\\\\data_sber_com\\\\out\\\\processed_train_16_geo.pickle']"
   ]
  },
  {
   "cell_type": "code",
   "execution_count": 14,
   "metadata": {},
   "outputs": [],
   "source": [
    "for i in range(3):\n",
    "    df_geo_iterat = pd.read_pickle(list_file_11[i])\n",
    "    df_prepr_geo_iterat =preprocessor_geo.transform(df_geo_iterat)\n",
    "    pd.to_pickle(df_prepr_geo_iterat, list_file_12[i])\n",
    "    del df_geo_iterat, df_prepr_geo_iterat\n",
    "    gc.collect()"
   ]
  },
  {
   "cell_type": "code",
   "execution_count": 15,
   "metadata": {},
   "outputs": [],
   "source": [
    "directory = 'C:\\\\data_sber_com\\\\Hackathon\\\\geo_test.parquet'\n",
    "df_geo_2 = pd.DataFrame()\n",
    "for filename in os.listdir(directory):\n",
    "    f = os.path.join(directory, filename)\n",
    "    if os.path.isfile(f):\n",
    "        df_geo_iter = reduce_mem_usage(pd.read_parquet(f))\n",
    "        df_geo_iter = df_geo_iter.loc[df_geo_iter['client_id'].isin(set_id_clients), :]\n",
    "        df_geo_iter['client_id_num'] = df_geo_iter['client_id'].apply(lambda x: integerMapping.get(x, '660000'))\n",
    "        df_geo_iter.drop(columns = 'client_id', inplace = True)\n",
    "        df_geo_2 = pd.concat([df_geo_iter, df_geo_2])\n",
    "        df_geo_2.reset_index(drop = True, inplace=True)\n",
    "        del df_geo_iter\n",
    "        gc.collect()\n",
    "        #print('step')\n",
    "#Скачиваю по шагам, оптимизирую по памяти, и тд"
   ]
  },
  {
   "cell_type": "code",
   "execution_count": 16,
   "metadata": {},
   "outputs": [],
   "source": [
    "processed_test_geo =preprocessor_geo.transform(df_geo_2)"
   ]
  },
  {
   "cell_type": "code",
   "execution_count": 17,
   "metadata": {},
   "outputs": [],
   "source": [
    "pd.to_pickle(processed_test_geo, 'C:\\\\data_sber_com\\\\out\\\\processed_test_geo.pickle')"
   ]
  },
  {
   "cell_type": "code",
   "execution_count": null,
   "metadata": {},
   "outputs": [],
   "source": []
  },
  {
   "cell_type": "code",
   "execution_count": null,
   "metadata": {},
   "outputs": [],
   "source": []
  },
  {
   "cell_type": "markdown",
   "metadata": {},
   "source": [
    "данных на обработку - 2.5Г, памяти занято - 4 Г, всего памяти 30Г,  - вылетело,\n",
    "данных на обработку 1 Г - отработало за 16 минут"
   ]
  },
  {
   "cell_type": "code",
   "execution_count": null,
   "metadata": {},
   "outputs": [],
   "source": [
    "%%time\n",
    "\n",
    "processed_train_20 = preprocessor.transform(df_trx_20)"
   ]
  },
  {
   "cell_type": "code",
   "execution_count": null,
   "metadata": {},
   "outputs": [],
   "source": []
  },
  {
   "cell_type": "code",
   "execution_count": null,
   "metadata": {},
   "outputs": [],
   "source": []
  },
  {
   "cell_type": "code",
   "execution_count": null,
   "metadata": {},
   "outputs": [],
   "source": [
    "pd.to_pickle(processed_train_20, 'processed_train_20.pickle')"
   ]
  },
  {
   "cell_type": "code",
   "execution_count": null,
   "metadata": {},
   "outputs": [],
   "source": [
    "%%time\n",
    "\n",
    "processed_train_30 = preprocessor.transform(df_trx_30)"
   ]
  },
  {
   "cell_type": "code",
   "execution_count": null,
   "metadata": {},
   "outputs": [],
   "source": [
    "pd.to_pickle(processed_train_30, 'processed_train_30.pickle')"
   ]
  },
  {
   "cell_type": "code",
   "execution_count": null,
   "metadata": {},
   "outputs": [],
   "source": [
    "pd.to_pickle(processed_train, 'processed_train.pickle')\n",
    "pd.to_pickle(processed_test, 'processed_test.pickle')"
   ]
  },
  {
   "cell_type": "code",
   "execution_count": null,
   "metadata": {},
   "outputs": [],
   "source": [
    "processed_train_1 = pd.read_pickle('/kaggle/working/processed_train_1.pickle')\n",
    "processed_train_2 = pd.read_pickle('/kaggle/working/processed_train_2.pickle')\n",
    "processed_train_3 = pd.read_pickle('/kaggle/working/processed_train_3.pickle')"
   ]
  },
  {
   "cell_type": "code",
   "execution_count": null,
   "metadata": {},
   "outputs": [],
   "source": [
    "processed_train = pd.concat([processed_train_1\n",
    "                             , processed_train_2\n",
    "                             , processed_train_3])\n",
    "processed_train.reset_index(drop = True, inplace=True)"
   ]
  },
  {
   "cell_type": "code",
   "execution_count": null,
   "metadata": {},
   "outputs": [],
   "source": [
    "#считалось 6 мин, на максимуме занимало 14Г оперативки, 1/10 от общего датасета\n",
    "# считалось 12 мин 3/10 от общего датасета"
   ]
  },
  {
   "cell_type": "code",
   "execution_count": null,
   "metadata": {},
   "outputs": [],
   "source": [
    "target_preprocessor = PandasDataPreprocessor(\n",
    "    col_id=\"client_id_num\",\n",
    "    col_event_time=\"mon\",\n",
    "    event_time_transformation=\"dt_to_timestamp\",\n",
    "    cols_identity=[\"target_1\", \"target_2\", \"target_3\", \"target_4\"],\n",
    "    return_records=False,\n",
    ")\n",
    "\n",
    "processed_target = target_preprocessor.fit_transform(df_targ_1)"
   ]
  },
  {
   "cell_type": "code",
   "execution_count": null,
   "metadata": {},
   "outputs": [],
   "source": [
    "pd.to_pickle(processed_target, 'processed_target.pickle')"
   ]
  },
  {
   "cell_type": "code",
   "execution_count": null,
   "metadata": {},
   "outputs": [],
   "source": [
    "with open(\"target_preprocessor.pickle\", \"wb\") as prepr:\n",
    "    pickle.dump(target_preprocessor, prepr)"
   ]
  },
  {
   "cell_type": "code",
   "execution_count": null,
   "metadata": {},
   "outputs": [],
   "source": [
    "gc.collect()"
   ]
  },
  {
   "cell_type": "code",
   "execution_count": null,
   "metadata": {},
   "outputs": [],
   "source": [
    "processed_train.head(3)"
   ]
  },
  {
   "cell_type": "code",
   "execution_count": null,
   "metadata": {},
   "outputs": [],
   "source": [
    "processed_train.info()"
   ]
  },
  {
   "cell_type": "code",
   "execution_count": null,
   "metadata": {},
   "outputs": [],
   "source": [
    "train = MemoryMapDataset(\n",
    "    data=processed_train_1.to_dict(\"records\"),\n",
    "    i_filters=[\n",
    "        FeatureFilter(drop_feature_names=['client_id_num']),\n",
    "        SeqLenFilter(min_seq_len=32),\n",
    "        ISeqLenLimit(max_seq_len=2046),\n",
    "        ToTorch()\n",
    "    ]\n",
    ")\n",
    "\n",
    "# test = MemoryMapDataset(\n",
    "#     data=processed_test.to_dict(\"records\"),\n",
    "#     i_filters=[\n",
    "#         FeatureFilter(drop_feature_names=['client_id_num']),\n",
    "#         SeqLenFilter(min_seq_len=32),\n",
    "#         ISeqLenLimit(max_seq_len=2046),\n",
    "#         ToTorch()\n",
    "#     ]\n",
    "# )"
   ]
  },
  {
   "cell_type": "code",
   "execution_count": null,
   "metadata": {},
   "outputs": [],
   "source": [
    "train[2]"
   ]
  },
  {
   "cell_type": "code",
   "execution_count": null,
   "metadata": {},
   "outputs": [],
   "source": [
    "train_ds = ColesIterableDataset(\n",
    "    data=train,\n",
    "    splitter=SampleSlices(\n",
    "        split_count=5,\n",
    "        cnt_min=32,\n",
    "        cnt_max=180\n",
    "    )\n",
    ")\n",
    "\n",
    "# valid_ds = ColesIterableDataset(\n",
    "#     data=test,\n",
    "#     splitter=SampleSlices(\n",
    "#         split_count=5,\n",
    "#         cnt_min=32,\n",
    "#         cnt_max=180\n",
    "#     )\n",
    "# )"
   ]
  },
  {
   "cell_type": "code",
   "execution_count": null,
   "metadata": {},
   "outputs": [],
   "source": [
    "train_dl = PtlsDataModule(\n",
    "    train_data=train_ds,\n",
    "    train_num_workers=16,\n",
    "    train_batch_size=128,\n",
    ")"
   ]
  },
  {
   "cell_type": "code",
   "execution_count": null,
   "metadata": {},
   "outputs": [],
   "source": [
    "trx_encoder_params = dict(\n",
    "    embeddings_noise=0.003,\n",
    "    numeric_values={'amount': 'log'},\n",
    "    embeddings={\n",
    "        \"event_type\": {'in': preprocessor.get_category_dictionary_sizes()[\"event_type\"], \"out\": 24},\n",
    "        \"event_subtype\": {'in': preprocessor.get_category_dictionary_sizes()[\"event_subtype\"], \"out\": 24},\n",
    "        'src_type11': {'in': preprocessor.get_category_dictionary_sizes()[\"src_type11\"], 'out': 24},\n",
    "        'src_type12': {'in': preprocessor.get_category_dictionary_sizes()[\"src_type12\"], 'out': 24},\n",
    "        'dst_type11': {'in': preprocessor.get_category_dictionary_sizes()[\"dst_type11\"], 'out': 24},\n",
    "        'dst_type12': {'in': preprocessor.get_category_dictionary_sizes()[\"dst_type12\"], 'out': 24},\n",
    "        'src_type22': {'in': preprocessor.get_category_dictionary_sizes()[\"src_type22\"], 'out': 24},\n",
    "        'src_type31': {'in': preprocessor.get_category_dictionary_sizes()[\"src_type31\"], 'out': 24},\n",
    "        'src_type32': {'in': preprocessor.get_category_dictionary_sizes()[\"src_type32\"], 'out': 24},\n",
    "      }\n",
    ")"
   ]
  },
  {
   "cell_type": "code",
   "execution_count": null,
   "metadata": {},
   "outputs": [],
   "source": [
    "seq_encoder = RnnSeqEncoder(\n",
    "    trx_encoder=TrxEncoder(**trx_encoder_params),\n",
    "    hidden_size=128,\n",
    "    type='gru',\n",
    ")"
   ]
  },
  {
   "cell_type": "code",
   "execution_count": null,
   "metadata": {},
   "outputs": [],
   "source": [
    "model = CoLESModule(\n",
    "    seq_encoder=seq_encoder,\n",
    "    optimizer_partial=partial(torch.optim.Adam, lr=0.001),\n",
    "    lr_scheduler_partial=partial(torch.optim.lr_scheduler.StepLR\n",
    "                                 , step_size=3, gamma=0.9025)\n",
    ")"
   ]
  },
  {
   "cell_type": "code",
   "execution_count": null,
   "metadata": {},
   "outputs": [],
   "source": [
    "trainer = pl.Trainer(\n",
    "    max_epochs=5,\n",
    "    limit_val_batches=2000,\n",
    "    accelerator=\"auto\",\n",
    "    enable_progress_bar=True,\n",
    "    gradient_clip_val=0.5,\n",
    "    logger=pl.loggers.TensorBoardLogger(\n",
    "        save_dir='./logdir',\n",
    "        name='baseline_result'\n",
    "    ),\n",
    "    callbacks=[\n",
    "        pl.callbacks.LearningRateMonitor(logging_interval='step'),\n",
    "        pl.callbacks.ModelCheckpoint(every_n_train_steps=2000, save_top_k=-1),\n",
    "    ]\n",
    ")"
   ]
  },
  {
   "cell_type": "code",
   "execution_count": null,
   "metadata": {},
   "outputs": [],
   "source": [
    "trainer = pl.Trainer(\n",
    "    max_epochs=30,\n",
    "    limit_val_batches=5000,\n",
    "    #gpus=[0],  #- указание на видеокарту\n",
    "    accelerator=\"auto\", # обучение на любом устр (без видеокарты)\n",
    "    enable_progress_bar=True,\n",
    "    gradient_clip_val=0.5,\n",
    "    logger=pl.loggers.TensorBoardLogger(\n",
    "        save_dir='./logdir',\n",
    "        name='baseline_result'\n",
    "    ),\n",
    "    callbacks=[\n",
    "        pl.callbacks.LearningRateMonitor(logging_interval='step'),\n",
    "        pl.callbacks.ModelCheckpoint(every_n_train_steps=5000, save_top_k=-1),\n",
    "    ]\n",
    ")"
   ]
  },
  {
   "cell_type": "code",
   "execution_count": null,
   "metadata": {},
   "outputs": [],
   "source": [
    "trainer.fit(model, train_dl)"
   ]
  },
  {
   "cell_type": "code",
   "execution_count": null,
   "metadata": {},
   "outputs": [],
   "source": [
    "torch.save(model.state_dict(), './model_2.pt')"
   ]
  },
  {
   "cell_type": "code",
   "execution_count": null,
   "metadata": {},
   "outputs": [],
   "source": [
    "class GetSplit(IterableProcessingDataset):\n",
    "    def __init__(\n",
    "        self,\n",
    "        start_month,\n",
    "        end_month,\n",
    "        year=2022,\n",
    "        col_id='client_id',\n",
    "        col_time='event_time'\n",
    "    ):\n",
    "        super().__init__()\n",
    "        self.start_month = start_month\n",
    "        self.end_month = end_month\n",
    "        self._year = year\n",
    "        self._col_id = col_id\n",
    "        self._col_time = col_time\n",
    "\n",
    "    def __iter__(self):\n",
    "        for rec in self._src:\n",
    "            for month in range(self.start_month, self.end_month+1):\n",
    "                features = rec[0] if type(rec) is tuple else rec\n",
    "                features = features.copy()\n",
    "\n",
    "                if month == 12:\n",
    "                    month_event_time = datetime(self._year + 1, 1, 1).timestamp()\n",
    "                else:\n",
    "                    month_event_time = datetime(self._year, month + 1, 1).timestamp()\n",
    "\n",
    "                year_event_time = datetime(self._year, 1, 1).timestamp()\n",
    "\n",
    "                mask = features[self._col_time] < month_event_time\n",
    "\n",
    "                for key, tensor in features.items():\n",
    "                    if key.startswith('target'):\n",
    "                        features[key] = tensor[month - 1].tolist()\n",
    "                    elif key != self._col_id:\n",
    "                        features[key] = tensor[mask]\n",
    "\n",
    "                features[self._col_id] += '_month=' + str(month)\n",
    "\n",
    "                yield features\n",
    "\n",
    "def collate_feature_dict_with_target(batch, col_id='client_id', targets=False):\n",
    "    batch_ids = []\n",
    "    target_cols = []\n",
    "    for sample in batch:\n",
    "        batch_ids.append(sample[col_id])\n",
    "        del sample[col_id]\n",
    "\n",
    "        if targets:\n",
    "            target_cols.append([sample[f'target_{i}'] for i in range(1, 5)])\n",
    "            del sample['target_1']\n",
    "            del sample['target_2']\n",
    "            del sample['target_3']\n",
    "            del sample['target_4']\n",
    "\n",
    "    padded_batch = collate_feature_dict(batch)\n",
    "    if targets:\n",
    "        return padded_batch, batch_ids, target_cols\n",
    "    return padded_batch, batch_ids\n",
    "\n",
    "\n",
    "class InferenceModuleMultimodal(pl.LightningModule):\n",
    "    def __init__(self, model, pandas_output=True, drop_seq_features=True, model_out_name='out'):\n",
    "        super().__init__()\n",
    "\n",
    "        self.model = model\n",
    "        self.pandas_output = pandas_output\n",
    "        self.drop_seq_features = drop_seq_features\n",
    "        self.model_out_name = model_out_name\n",
    "\n",
    "    def forward(self, x):\n",
    "        x_len = len(x)\n",
    "        if x_len == 3:\n",
    "            x, batch_ids, target_cols = x\n",
    "        else:\n",
    "            x, batch_ids = x\n",
    "\n",
    "        out = self.model(x)\n",
    "        if x_len == 3:\n",
    "            target_cols = torch.tensor(target_cols)\n",
    "            x_out = {\n",
    "                'client_id': batch_ids,\n",
    "                'target_1': target_cols[:, 0],\n",
    "                'target_2': target_cols[:, 1],\n",
    "                'target_3': target_cols[:, 2],\n",
    "                'target_4': target_cols[:, 3],\n",
    "                self.model_out_name: out\n",
    "            }\n",
    "        else:\n",
    "            x_out = {\n",
    "                'client_id': batch_ids,\n",
    "                self.model_out_name: out\n",
    "            }\n",
    "        torch.cuda.empty_cache()\n",
    "\n",
    "        if self.pandas_output:\n",
    "            return self.to_pandas(x_out)\n",
    "        return x_out\n",
    "\n",
    "    @staticmethod\n",
    "    def to_pandas(x):\n",
    "        expand_cols = []\n",
    "        scalar_features = {}\n",
    "\n",
    "        for k, v in x.items():\n",
    "            if type(v) is torch.Tensor:\n",
    "                v = v.cpu().numpy()\n",
    "\n",
    "            if type(v) is list or len(v.shape) == 1:\n",
    "                scalar_features[k] = v\n",
    "            elif len(v.shape) == 2:\n",
    "                expand_cols.append(k)\n",
    "            else:\n",
    "                scalar_features[k] = None\n",
    "\n",
    "        dataframes = [pd.DataFrame(scalar_features)]\n",
    "        for col in expand_cols:\n",
    "            v = x[col].cpu().numpy()\n",
    "            dataframes.append(pd.DataFrame(v, columns=[f'{col}_{i:04d}' for i in range(v.shape[1])]))\n",
    "\n",
    "        return pd.concat(dataframes, axis=1)"
   ]
  },
  {
   "cell_type": "code",
   "execution_count": null,
   "metadata": {},
   "outputs": [],
   "source": []
  },
  {
   "cell_type": "code",
   "execution_count": null,
   "metadata": {},
   "outputs": [],
   "source": []
  },
  {
   "cell_type": "code",
   "execution_count": null,
   "metadata": {},
   "outputs": [],
   "source": []
  },
  {
   "cell_type": "code",
   "execution_count": null,
   "metadata": {},
   "outputs": [],
   "source": []
  },
  {
   "cell_type": "code",
   "execution_count": null,
   "metadata": {},
   "outputs": [],
   "source": []
  },
  {
   "cell_type": "code",
   "execution_count": null,
   "metadata": {},
   "outputs": [],
   "source": [
    "import torch\n",
    "\n",
    "# Makes 1000 samples with `mcc_code` and `amount` features and seq_len randomly sampled in range (100, 200)\n",
    "dataset = [{\n",
    "    'mcc_code': torch.randint(1, 10, (seq_len,)),\n",
    "    'amount': torch.randn(seq_len),\n",
    "    'event_time': torch.arange(seq_len),  # shows order between transactions\n",
    "} for seq_len in torch.randint(100, 200, (1000,))]\n",
    "\n",
    "from sklearn.model_selection import train_test_split\n",
    "# split 10% for validation\n",
    "train_data, valid_data = train_test_split(dataset, test_size=0.1)"
   ]
  },
  {
   "cell_type": "code",
   "execution_count": null,
   "metadata": {},
   "outputs": [],
   "source": [
    "from ptls.frames.coles import ColesDataset\n",
    "from ptls.frames.coles.split_strategy import SampleSlices\n",
    "\n",
    "splitter=SampleSlices(split_count=5, cnt_min=10, cnt_max=20)\n",
    "train_dataset = ColesDataset(data=train_data, splitter=splitter)\n",
    "valid_dataset = ColesDataset(data=valid_data, splitter=splitter)\n",
    "\n",
    "train_dataloader = torch.utils.data.DataLoader(\n",
    "    dataset=train_dataset,\n",
    "    collate_fn=train_dataset.collate_fn,  # collate_fn from dataset\n",
    "    shuffle=True,\n",
    "    num_workers=4,\n",
    "    batch_size=32,\n",
    ")\n",
    "valid_dataloader = torch.utils.data.DataLoader(\n",
    "    dataset=valid_dataset,\n",
    "    collate_fn=valid_dataset.collate_fn,  # collate_fn from dataset\n",
    "    shuffle=False,\n",
    "    num_workers=0,\n",
    "    batch_size=32,\n",
    ")\n",
    "\n",
    "import torch.optim\n",
    "from functools import partial\n",
    "from ptls.nn import TrxEncoder, RnnSeqEncoder\n",
    "from ptls.frames.coles import CoLESModule\n",
    "\n",
    "seq_encoder = RnnSeqEncoder(\n",
    "    trx_encoder=TrxEncoder(\n",
    "        embeddings={'mcc_code': {'in': 10, 'out': 4}},\n",
    "        numeric_values={'amount': 'identity'},\n",
    "    ),\n",
    "    hidden_size=16,  # this is final embedding size\n",
    ")\n",
    "\n",
    "coles_module = CoLESModule(\n",
    "    seq_encoder=seq_encoder,\n",
    "    optimizer_partial=partial(torch.optim.Adam, lr=0.001),\n",
    "    lr_scheduler_partial=partial(torch.optim.lr_scheduler.StepLR, step_size=1, gamma=0.9),\n",
    ")"
   ]
  },
  {
   "cell_type": "code",
   "execution_count": null,
   "metadata": {},
   "outputs": [],
   "source": [
    "import pytorch_lightning as pl\n",
    "\n",
    "trainer = pl.Trainer(max_epochs=50)"
   ]
  },
  {
   "cell_type": "code",
   "execution_count": null,
   "metadata": {},
   "outputs": [],
   "source": [
    "trainer.fit(coles_module, train_dataloader, valid_dataloader)"
   ]
  },
  {
   "cell_type": "code",
   "execution_count": null,
   "metadata": {},
   "outputs": [],
   "source": [
    "inf_module = InferenceModuleMultimodal(\n",
    "        model=model,\n",
    "        pandas_output=True,\n",
    "        drop_seq_features=True,\n",
    "        model_out_name='emb',\n",
    "    )"
   ]
  },
  {
   "cell_type": "code",
   "execution_count": null,
   "metadata": {},
   "outputs": [],
   "source": [
    "trainer.predict(coles_module, valid_dataloader)"
   ]
  },
  {
   "cell_type": "code",
   "execution_count": null,
   "metadata": {},
   "outputs": [],
   "source": [
    "valid_dataloader"
   ]
  },
  {
   "cell_type": "code",
   "execution_count": null,
   "metadata": {},
   "outputs": [],
   "source": []
  }
 ],
 "metadata": {
  "kaggle": {
   "accelerator": "none",
   "dataSources": [
    {
     "datasetId": 5162392,
     "sourceId": 8663499,
     "sourceType": "datasetVersion"
    }
   ],
   "dockerImageVersionId": 30732,
   "isGpuEnabled": false,
   "isInternetEnabled": true,
   "language": "python",
   "sourceType": "notebook"
  },
  "kernelspec": {
   "display_name": "Python 3",
   "language": "python",
   "name": "python3"
  },
  "language_info": {
   "codemirror_mode": {
    "name": "ipython",
    "version": 3
   },
   "file_extension": ".py",
   "mimetype": "text/x-python",
   "name": "python",
   "nbconvert_exporter": "python",
   "pygments_lexer": "ipython3",
   "version": "3.8.5"
  },
  "toc": {
   "base_numbering": 1,
   "nav_menu": {},
   "number_sections": true,
   "sideBar": true,
   "skip_h1_title": false,
   "title_cell": "Table of Contents",
   "title_sidebar": "Contents",
   "toc_cell": false,
   "toc_position": {},
   "toc_section_display": true,
   "toc_window_display": false
  }
 },
 "nbformat": 4,
 "nbformat_minor": 4
}
